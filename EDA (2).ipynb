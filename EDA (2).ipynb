{
  "cells": [
    {
      "cell_type": "code",
      "execution_count": 6,
      "id": "2ed7da4a-5050-42fc-b9e9-63b7f3118e4a",
      "metadata": {
        "trusted": true
      },
      "outputs": [
        {
          "name": "stdout",
          "output_type": "stream",
          "text": [
            "Requirement already satisfied: seaborn in c:\\users\\admin\\appdata\\local\\programs\\python\\python39\\lib\\site-packages (0.13.2)\n",
            "Requirement already satisfied: pandas>=1.2 in c:\\users\\admin\\appdata\\local\\programs\\python\\python39\\lib\\site-packages (from seaborn) (2.2.3)\n",
            "Requirement already satisfied: numpy!=1.24.0,>=1.20 in c:\\users\\admin\\appdata\\local\\programs\\python\\python39\\lib\\site-packages (from seaborn) (2.0.2)\n",
            "Requirement already satisfied: matplotlib!=3.6.1,>=3.4 in c:\\users\\admin\\appdata\\local\\programs\\python\\python39\\lib\\site-packages (from seaborn) (3.9.4)\n",
            "Requirement already satisfied: pillow>=8 in c:\\users\\admin\\appdata\\local\\programs\\python\\python39\\lib\\site-packages (from matplotlib!=3.6.1,>=3.4->seaborn) (11.1.0)\n",
            "Requirement already satisfied: python-dateutil>=2.7 in c:\\users\\admin\\appdata\\roaming\\python\\python39\\site-packages (from matplotlib!=3.6.1,>=3.4->seaborn) (2.9.0.post0)\n",
            "Requirement already satisfied: packaging>=20.0 in c:\\users\\admin\\appdata\\roaming\\python\\python39\\site-packages (from matplotlib!=3.6.1,>=3.4->seaborn) (24.2)\n",
            "Requirement already satisfied: kiwisolver>=1.3.1 in c:\\users\\admin\\appdata\\local\\programs\\python\\python39\\lib\\site-packages (from matplotlib!=3.6.1,>=3.4->seaborn) (1.4.7)\n",
            "Requirement already satisfied: importlib-resources>=3.2.0 in c:\\users\\admin\\appdata\\local\\programs\\python\\python39\\lib\\site-packages (from matplotlib!=3.6.1,>=3.4->seaborn) (6.5.2)\n",
            "Requirement already satisfied: contourpy>=1.0.1 in c:\\users\\admin\\appdata\\local\\programs\\python\\python39\\lib\\site-packages (from matplotlib!=3.6.1,>=3.4->seaborn) (1.3.0)\n",
            "Requirement already satisfied: fonttools>=4.22.0 in c:\\users\\admin\\appdata\\local\\programs\\python\\python39\\lib\\site-packages (from matplotlib!=3.6.1,>=3.4->seaborn) (4.56.0)\n",
            "Requirement already satisfied: cycler>=0.10 in c:\\users\\admin\\appdata\\local\\programs\\python\\python39\\lib\\site-packages (from matplotlib!=3.6.1,>=3.4->seaborn) (0.12.1)\n",
            "Requirement already satisfied: pyparsing>=2.3.1 in c:\\users\\admin\\appdata\\local\\programs\\python\\python39\\lib\\site-packages (from matplotlib!=3.6.1,>=3.4->seaborn) (3.2.1)\n",
            "Requirement already satisfied: pytz>=2020.1 in c:\\users\\admin\\appdata\\local\\programs\\python\\python39\\lib\\site-packages (from pandas>=1.2->seaborn) (2025.1)\n",
            "Requirement already satisfied: tzdata>=2022.7 in c:\\users\\admin\\appdata\\local\\programs\\python\\python39\\lib\\site-packages (from pandas>=1.2->seaborn) (2025.1)\n",
            "Requirement already satisfied: zipp>=3.1.0 in c:\\users\\admin\\appdata\\roaming\\python\\python39\\site-packages (from importlib-resources>=3.2.0->matplotlib!=3.6.1,>=3.4->seaborn) (3.21.0)\n",
            "Requirement already satisfied: six>=1.5 in c:\\users\\admin\\appdata\\roaming\\python\\python39\\site-packages (from python-dateutil>=2.7->matplotlib!=3.6.1,>=3.4->seaborn) (1.17.0)\n",
            "Note: you may need to restart the kernel to use updated packages.\n"
          ]
        },
        {
          "name": "stderr",
          "output_type": "stream",
          "text": [
            "WARNING: You are using pip version 22.0.4; however, version 25.0.1 is available.\n",
            "You should consider upgrading via the 'c:\\Users\\Admin\\AppData\\Local\\Programs\\Python\\Python39\\python.exe -m pip install --upgrade pip' command.\n"
          ]
        },
        {
          "name": "stdout",
          "output_type": "stream",
          "text": [
            "Requirement already satisfied: pandas in c:\\users\\admin\\appdata\\local\\programs\\python\\python39\\lib\\site-packages (2.2.3)\n",
            "Requirement already satisfied: python-dateutil>=2.8.2 in c:\\users\\admin\\appdata\\roaming\\python\\python39\\site-packages (from pandas) (2.9.0.post0)\n",
            "Requirement already satisfied: tzdata>=2022.7 in c:\\users\\admin\\appdata\\local\\programs\\python\\python39\\lib\\site-packages (from pandas) (2025.1)\n",
            "Requirement already satisfied: pytz>=2020.1 in c:\\users\\admin\\appdata\\local\\programs\\python\\python39\\lib\\site-packages (from pandas) (2025.1)\n",
            "Requirement already satisfied: numpy>=1.22.4 in c:\\users\\admin\\appdata\\local\\programs\\python\\python39\\lib\\site-packages (from pandas) (2.0.2)\n",
            "Requirement already satisfied: six>=1.5 in c:\\users\\admin\\appdata\\roaming\\python\\python39\\site-packages (from python-dateutil>=2.8.2->pandas) (1.17.0)\n",
            "Note: you may need to restart the kernel to use updated packages.\n"
          ]
        },
        {
          "name": "stderr",
          "output_type": "stream",
          "text": [
            "WARNING: You are using pip version 22.0.4; however, version 25.0.1 is available.\n",
            "You should consider upgrading via the 'c:\\Users\\Admin\\AppData\\Local\\Programs\\Python\\Python39\\python.exe -m pip install --upgrade pip' command.\n"
          ]
        },
        {
          "name": "stdout",
          "output_type": "stream",
          "text": [
            "Requirement already satisfied: matplotlib in c:\\users\\admin\\appdata\\local\\programs\\python\\python39\\lib\\site-packages (3.9.4)\n",
            "Requirement already satisfied: cycler>=0.10 in c:\\users\\admin\\appdata\\local\\programs\\python\\python39\\lib\\site-packages (from matplotlib) (0.12.1)\n",
            "Requirement already satisfied: numpy>=1.23 in c:\\users\\admin\\appdata\\local\\programs\\python\\python39\\lib\\site-packages (from matplotlib) (2.0.2)\n",
            "Requirement already satisfied: packaging>=20.0 in c:\\users\\admin\\appdata\\roaming\\python\\python39\\site-packages (from matplotlib) (24.2)\n",
            "Requirement already satisfied: fonttools>=4.22.0 in c:\\users\\admin\\appdata\\local\\programs\\python\\python39\\lib\\site-packages (from matplotlib) (4.56.0)\n",
            "Requirement already satisfied: pyparsing>=2.3.1 in c:\\users\\admin\\appdata\\local\\programs\\python\\python39\\lib\\site-packages (from matplotlib) (3.2.1)\n",
            "Requirement already satisfied: kiwisolver>=1.3.1 in c:\\users\\admin\\appdata\\local\\programs\\python\\python39\\lib\\site-packages (from matplotlib) (1.4.7)\n",
            "Requirement already satisfied: pillow>=8 in c:\\users\\admin\\appdata\\local\\programs\\python\\python39\\lib\\site-packages (from matplotlib) (11.1.0)\n",
            "Requirement already satisfied: contourpy>=1.0.1 in c:\\users\\admin\\appdata\\local\\programs\\python\\python39\\lib\\site-packages (from matplotlib) (1.3.0)\n",
            "Requirement already satisfied: importlib-resources>=3.2.0 in c:\\users\\admin\\appdata\\local\\programs\\python\\python39\\lib\\site-packages (from matplotlib) (6.5.2)\n",
            "Requirement already satisfied: python-dateutil>=2.7 in c:\\users\\admin\\appdata\\roaming\\python\\python39\\site-packages (from matplotlib) (2.9.0.post0)\n",
            "Requirement already satisfied: zipp>=3.1.0 in c:\\users\\admin\\appdata\\roaming\\python\\python39\\site-packages (from importlib-resources>=3.2.0->matplotlib) (3.21.0)\n",
            "Requirement already satisfied: six>=1.5 in c:\\users\\admin\\appdata\\roaming\\python\\python39\\site-packages (from python-dateutil>=2.7->matplotlib) (1.17.0)\n",
            "Note: you may need to restart the kernel to use updated packages.\n"
          ]
        },
        {
          "name": "stderr",
          "output_type": "stream",
          "text": [
            "WARNING: You are using pip version 22.0.4; however, version 25.0.1 is available.\n",
            "You should consider upgrading via the 'c:\\Users\\Admin\\AppData\\Local\\Programs\\Python\\Python39\\python.exe -m pip install --upgrade pip' command.\n"
          ]
        },
        {
          "name": "stdout",
          "output_type": "stream",
          "text": [
            "Requirement already satisfied: numpy in c:\\users\\admin\\appdata\\local\\programs\\python\\python39\\lib\\site-packages (2.0.2)\n",
            "Note: you may need to restart the kernel to use updated packages.\n"
          ]
        },
        {
          "name": "stderr",
          "output_type": "stream",
          "text": [
            "WARNING: You are using pip version 22.0.4; however, version 25.0.1 is available.\n",
            "You should consider upgrading via the 'c:\\Users\\Admin\\AppData\\Local\\Programs\\Python\\Python39\\python.exe -m pip install --upgrade pip' command.\n"
          ]
        }
      ],
      "source": [
        "%pip install seaborn\n",
        "%pip install pandas\n",
        "%pip install matplotlib\n",
        "%pip install numpy"
      ]
    },
    {
      "cell_type": "code",
      "execution_count": 7,
      "id": "1fb19821-1373-4ee3-821b-e26203a35d1b",
      "metadata": {
        "trusted": true
      },
      "outputs": [],
      "source": [
        "import pandas as pd\n",
        "import numpy as np\n",
        "import matplotlib as mpl\n",
        "import matplotlib.pyplot as plt\n",
        "import seaborn as sns"
      ]
    },
    {
      "cell_type": "code",
      "execution_count": 8,
      "id": "e522377a-9986-4c26-b819-dbab4871d573",
      "metadata": {
        "trusted": true
      },
      "outputs": [
        {
          "data": {
            "text/html": [
              "<div>\n",
              "<style scoped>\n",
              "    .dataframe tbody tr th:only-of-type {\n",
              "        vertical-align: middle;\n",
              "    }\n",
              "\n",
              "    .dataframe tbody tr th {\n",
              "        vertical-align: top;\n",
              "    }\n",
              "\n",
              "    .dataframe thead th {\n",
              "        text-align: right;\n",
              "    }\n",
              "</style>\n",
              "<table border=\"1\" class=\"dataframe\">\n",
              "  <thead>\n",
              "    <tr style=\"text-align: right;\">\n",
              "      <th></th>\n",
              "      <th>is_canceled</th>\n",
              "      <th>lead_time</th>\n",
              "      <th>arrival_date_year</th>\n",
              "      <th>arrival_date_week_number</th>\n",
              "      <th>arrival_date_day_of_month</th>\n",
              "      <th>stays_in_weekend_nights</th>\n",
              "      <th>stays_in_week_nights</th>\n",
              "      <th>adults</th>\n",
              "      <th>children</th>\n",
              "      <th>babies</th>\n",
              "      <th>is_repeated_guest</th>\n",
              "      <th>previous_cancellations</th>\n",
              "      <th>previous_bookings_not_canceled</th>\n",
              "      <th>booking_changes</th>\n",
              "      <th>agent</th>\n",
              "      <th>company</th>\n",
              "      <th>days_in_waiting_list</th>\n",
              "      <th>adr</th>\n",
              "      <th>required_car_parking_spaces</th>\n",
              "      <th>total_of_special_requests</th>\n",
              "    </tr>\n",
              "  </thead>\n",
              "  <tbody>\n",
              "    <tr>\n",
              "      <th>count</th>\n",
              "      <td>119390.000000</td>\n",
              "      <td>119390.000000</td>\n",
              "      <td>119390.000000</td>\n",
              "      <td>119390.000000</td>\n",
              "      <td>119390.000000</td>\n",
              "      <td>119390.000000</td>\n",
              "      <td>119390.000000</td>\n",
              "      <td>119390.000000</td>\n",
              "      <td>119386.000000</td>\n",
              "      <td>119390.000000</td>\n",
              "      <td>119390.000000</td>\n",
              "      <td>119390.000000</td>\n",
              "      <td>119390.000000</td>\n",
              "      <td>119390.000000</td>\n",
              "      <td>103050.000000</td>\n",
              "      <td>6797.000000</td>\n",
              "      <td>119390.000000</td>\n",
              "      <td>119390.000000</td>\n",
              "      <td>119390.000000</td>\n",
              "      <td>119390.000000</td>\n",
              "    </tr>\n",
              "    <tr>\n",
              "      <th>mean</th>\n",
              "      <td>0.370416</td>\n",
              "      <td>104.011416</td>\n",
              "      <td>2016.156554</td>\n",
              "      <td>27.165173</td>\n",
              "      <td>15.798241</td>\n",
              "      <td>0.927599</td>\n",
              "      <td>2.500302</td>\n",
              "      <td>1.856403</td>\n",
              "      <td>0.103890</td>\n",
              "      <td>0.007949</td>\n",
              "      <td>0.031912</td>\n",
              "      <td>0.087118</td>\n",
              "      <td>0.137097</td>\n",
              "      <td>0.221124</td>\n",
              "      <td>86.693382</td>\n",
              "      <td>189.266735</td>\n",
              "      <td>2.321149</td>\n",
              "      <td>101.831122</td>\n",
              "      <td>0.062518</td>\n",
              "      <td>0.571363</td>\n",
              "    </tr>\n",
              "    <tr>\n",
              "      <th>std</th>\n",
              "      <td>0.482918</td>\n",
              "      <td>106.863097</td>\n",
              "      <td>0.707476</td>\n",
              "      <td>13.605138</td>\n",
              "      <td>8.780829</td>\n",
              "      <td>0.998613</td>\n",
              "      <td>1.908286</td>\n",
              "      <td>0.579261</td>\n",
              "      <td>0.398561</td>\n",
              "      <td>0.097436</td>\n",
              "      <td>0.175767</td>\n",
              "      <td>0.844336</td>\n",
              "      <td>1.497437</td>\n",
              "      <td>0.652306</td>\n",
              "      <td>110.774548</td>\n",
              "      <td>131.655015</td>\n",
              "      <td>17.594721</td>\n",
              "      <td>50.535790</td>\n",
              "      <td>0.245291</td>\n",
              "      <td>0.792798</td>\n",
              "    </tr>\n",
              "    <tr>\n",
              "      <th>min</th>\n",
              "      <td>0.000000</td>\n",
              "      <td>0.000000</td>\n",
              "      <td>2015.000000</td>\n",
              "      <td>1.000000</td>\n",
              "      <td>1.000000</td>\n",
              "      <td>0.000000</td>\n",
              "      <td>0.000000</td>\n",
              "      <td>0.000000</td>\n",
              "      <td>0.000000</td>\n",
              "      <td>0.000000</td>\n",
              "      <td>0.000000</td>\n",
              "      <td>0.000000</td>\n",
              "      <td>0.000000</td>\n",
              "      <td>0.000000</td>\n",
              "      <td>1.000000</td>\n",
              "      <td>6.000000</td>\n",
              "      <td>0.000000</td>\n",
              "      <td>-6.380000</td>\n",
              "      <td>0.000000</td>\n",
              "      <td>0.000000</td>\n",
              "    </tr>\n",
              "    <tr>\n",
              "      <th>25%</th>\n",
              "      <td>0.000000</td>\n",
              "      <td>18.000000</td>\n",
              "      <td>2016.000000</td>\n",
              "      <td>16.000000</td>\n",
              "      <td>8.000000</td>\n",
              "      <td>0.000000</td>\n",
              "      <td>1.000000</td>\n",
              "      <td>2.000000</td>\n",
              "      <td>0.000000</td>\n",
              "      <td>0.000000</td>\n",
              "      <td>0.000000</td>\n",
              "      <td>0.000000</td>\n",
              "      <td>0.000000</td>\n",
              "      <td>0.000000</td>\n",
              "      <td>9.000000</td>\n",
              "      <td>62.000000</td>\n",
              "      <td>0.000000</td>\n",
              "      <td>69.290000</td>\n",
              "      <td>0.000000</td>\n",
              "      <td>0.000000</td>\n",
              "    </tr>\n",
              "    <tr>\n",
              "      <th>50%</th>\n",
              "      <td>0.000000</td>\n",
              "      <td>69.000000</td>\n",
              "      <td>2016.000000</td>\n",
              "      <td>28.000000</td>\n",
              "      <td>16.000000</td>\n",
              "      <td>1.000000</td>\n",
              "      <td>2.000000</td>\n",
              "      <td>2.000000</td>\n",
              "      <td>0.000000</td>\n",
              "      <td>0.000000</td>\n",
              "      <td>0.000000</td>\n",
              "      <td>0.000000</td>\n",
              "      <td>0.000000</td>\n",
              "      <td>0.000000</td>\n",
              "      <td>14.000000</td>\n",
              "      <td>179.000000</td>\n",
              "      <td>0.000000</td>\n",
              "      <td>94.575000</td>\n",
              "      <td>0.000000</td>\n",
              "      <td>0.000000</td>\n",
              "    </tr>\n",
              "    <tr>\n",
              "      <th>75%</th>\n",
              "      <td>1.000000</td>\n",
              "      <td>160.000000</td>\n",
              "      <td>2017.000000</td>\n",
              "      <td>38.000000</td>\n",
              "      <td>23.000000</td>\n",
              "      <td>2.000000</td>\n",
              "      <td>3.000000</td>\n",
              "      <td>2.000000</td>\n",
              "      <td>0.000000</td>\n",
              "      <td>0.000000</td>\n",
              "      <td>0.000000</td>\n",
              "      <td>0.000000</td>\n",
              "      <td>0.000000</td>\n",
              "      <td>0.000000</td>\n",
              "      <td>229.000000</td>\n",
              "      <td>270.000000</td>\n",
              "      <td>0.000000</td>\n",
              "      <td>126.000000</td>\n",
              "      <td>0.000000</td>\n",
              "      <td>1.000000</td>\n",
              "    </tr>\n",
              "    <tr>\n",
              "      <th>max</th>\n",
              "      <td>1.000000</td>\n",
              "      <td>737.000000</td>\n",
              "      <td>2017.000000</td>\n",
              "      <td>53.000000</td>\n",
              "      <td>31.000000</td>\n",
              "      <td>19.000000</td>\n",
              "      <td>50.000000</td>\n",
              "      <td>55.000000</td>\n",
              "      <td>10.000000</td>\n",
              "      <td>10.000000</td>\n",
              "      <td>1.000000</td>\n",
              "      <td>26.000000</td>\n",
              "      <td>72.000000</td>\n",
              "      <td>21.000000</td>\n",
              "      <td>535.000000</td>\n",
              "      <td>543.000000</td>\n",
              "      <td>391.000000</td>\n",
              "      <td>5400.000000</td>\n",
              "      <td>8.000000</td>\n",
              "      <td>5.000000</td>\n",
              "    </tr>\n",
              "  </tbody>\n",
              "</table>\n",
              "</div>"
            ],
            "text/plain": [
              "         is_canceled      lead_time  arrival_date_year  \\\n",
              "count  119390.000000  119390.000000      119390.000000   \n",
              "mean        0.370416     104.011416        2016.156554   \n",
              "std         0.482918     106.863097           0.707476   \n",
              "min         0.000000       0.000000        2015.000000   \n",
              "25%         0.000000      18.000000        2016.000000   \n",
              "50%         0.000000      69.000000        2016.000000   \n",
              "75%         1.000000     160.000000        2017.000000   \n",
              "max         1.000000     737.000000        2017.000000   \n",
              "\n",
              "       arrival_date_week_number  arrival_date_day_of_month  \\\n",
              "count             119390.000000              119390.000000   \n",
              "mean                  27.165173                  15.798241   \n",
              "std                   13.605138                   8.780829   \n",
              "min                    1.000000                   1.000000   \n",
              "25%                   16.000000                   8.000000   \n",
              "50%                   28.000000                  16.000000   \n",
              "75%                   38.000000                  23.000000   \n",
              "max                   53.000000                  31.000000   \n",
              "\n",
              "       stays_in_weekend_nights  stays_in_week_nights         adults  \\\n",
              "count            119390.000000         119390.000000  119390.000000   \n",
              "mean                  0.927599              2.500302       1.856403   \n",
              "std                   0.998613              1.908286       0.579261   \n",
              "min                   0.000000              0.000000       0.000000   \n",
              "25%                   0.000000              1.000000       2.000000   \n",
              "50%                   1.000000              2.000000       2.000000   \n",
              "75%                   2.000000              3.000000       2.000000   \n",
              "max                  19.000000             50.000000      55.000000   \n",
              "\n",
              "            children         babies  is_repeated_guest  \\\n",
              "count  119386.000000  119390.000000      119390.000000   \n",
              "mean        0.103890       0.007949           0.031912   \n",
              "std         0.398561       0.097436           0.175767   \n",
              "min         0.000000       0.000000           0.000000   \n",
              "25%         0.000000       0.000000           0.000000   \n",
              "50%         0.000000       0.000000           0.000000   \n",
              "75%         0.000000       0.000000           0.000000   \n",
              "max        10.000000      10.000000           1.000000   \n",
              "\n",
              "       previous_cancellations  previous_bookings_not_canceled  \\\n",
              "count           119390.000000                   119390.000000   \n",
              "mean                 0.087118                        0.137097   \n",
              "std                  0.844336                        1.497437   \n",
              "min                  0.000000                        0.000000   \n",
              "25%                  0.000000                        0.000000   \n",
              "50%                  0.000000                        0.000000   \n",
              "75%                  0.000000                        0.000000   \n",
              "max                 26.000000                       72.000000   \n",
              "\n",
              "       booking_changes          agent      company  days_in_waiting_list  \\\n",
              "count    119390.000000  103050.000000  6797.000000         119390.000000   \n",
              "mean          0.221124      86.693382   189.266735              2.321149   \n",
              "std           0.652306     110.774548   131.655015             17.594721   \n",
              "min           0.000000       1.000000     6.000000              0.000000   \n",
              "25%           0.000000       9.000000    62.000000              0.000000   \n",
              "50%           0.000000      14.000000   179.000000              0.000000   \n",
              "75%           0.000000     229.000000   270.000000              0.000000   \n",
              "max          21.000000     535.000000   543.000000            391.000000   \n",
              "\n",
              "                 adr  required_car_parking_spaces  total_of_special_requests  \n",
              "count  119390.000000                119390.000000              119390.000000  \n",
              "mean      101.831122                     0.062518                   0.571363  \n",
              "std        50.535790                     0.245291                   0.792798  \n",
              "min        -6.380000                     0.000000                   0.000000  \n",
              "25%        69.290000                     0.000000                   0.000000  \n",
              "50%        94.575000                     0.000000                   0.000000  \n",
              "75%       126.000000                     0.000000                   1.000000  \n",
              "max      5400.000000                     8.000000                   5.000000  "
            ]
          },
          "execution_count": 8,
          "metadata": {},
          "output_type": "execute_result"
        }
      ],
      "source": [
        "data_frame = pd.read_csv(r\"hotel_bookings.csv\")\n",
        "data_frame.describe()"
      ]
    },
    {
      "cell_type": "code",
      "execution_count": 9,
      "id": "ad241d2d-3b0c-4383-bf65-648a00480eef",
      "metadata": {
        "trusted": true
      },
      "outputs": [
        {
          "data": {
            "text/html": [
              "<div>\n",
              "<style scoped>\n",
              "    .dataframe tbody tr th:only-of-type {\n",
              "        vertical-align: middle;\n",
              "    }\n",
              "\n",
              "    .dataframe tbody tr th {\n",
              "        vertical-align: top;\n",
              "    }\n",
              "\n",
              "    .dataframe thead th {\n",
              "        text-align: right;\n",
              "    }\n",
              "</style>\n",
              "<table border=\"1\" class=\"dataframe\">\n",
              "  <thead>\n",
              "    <tr style=\"text-align: right;\">\n",
              "      <th></th>\n",
              "      <th>hotel</th>\n",
              "      <th>is_canceled</th>\n",
              "      <th>lead_time</th>\n",
              "      <th>arrival_date_year</th>\n",
              "      <th>arrival_date_month</th>\n",
              "      <th>arrival_date_week_number</th>\n",
              "      <th>arrival_date_day_of_month</th>\n",
              "      <th>stays_in_weekend_nights</th>\n",
              "      <th>stays_in_week_nights</th>\n",
              "      <th>adults</th>\n",
              "      <th>...</th>\n",
              "      <th>deposit_type</th>\n",
              "      <th>agent</th>\n",
              "      <th>company</th>\n",
              "      <th>days_in_waiting_list</th>\n",
              "      <th>customer_type</th>\n",
              "      <th>adr</th>\n",
              "      <th>required_car_parking_spaces</th>\n",
              "      <th>total_of_special_requests</th>\n",
              "      <th>reservation_status</th>\n",
              "      <th>reservation_status_date</th>\n",
              "    </tr>\n",
              "  </thead>\n",
              "  <tbody>\n",
              "    <tr>\n",
              "      <th>0</th>\n",
              "      <td>Resort Hotel</td>\n",
              "      <td>0</td>\n",
              "      <td>342</td>\n",
              "      <td>2015</td>\n",
              "      <td>July</td>\n",
              "      <td>27</td>\n",
              "      <td>1</td>\n",
              "      <td>0</td>\n",
              "      <td>0</td>\n",
              "      <td>2</td>\n",
              "      <td>...</td>\n",
              "      <td>No Deposit</td>\n",
              "      <td>NaN</td>\n",
              "      <td>NaN</td>\n",
              "      <td>0</td>\n",
              "      <td>Transient</td>\n",
              "      <td>0.0</td>\n",
              "      <td>0</td>\n",
              "      <td>0</td>\n",
              "      <td>Check-Out</td>\n",
              "      <td>2015-07-01</td>\n",
              "    </tr>\n",
              "    <tr>\n",
              "      <th>1</th>\n",
              "      <td>Resort Hotel</td>\n",
              "      <td>0</td>\n",
              "      <td>737</td>\n",
              "      <td>2015</td>\n",
              "      <td>July</td>\n",
              "      <td>27</td>\n",
              "      <td>1</td>\n",
              "      <td>0</td>\n",
              "      <td>0</td>\n",
              "      <td>2</td>\n",
              "      <td>...</td>\n",
              "      <td>No Deposit</td>\n",
              "      <td>NaN</td>\n",
              "      <td>NaN</td>\n",
              "      <td>0</td>\n",
              "      <td>Transient</td>\n",
              "      <td>0.0</td>\n",
              "      <td>0</td>\n",
              "      <td>0</td>\n",
              "      <td>Check-Out</td>\n",
              "      <td>2015-07-01</td>\n",
              "    </tr>\n",
              "    <tr>\n",
              "      <th>2</th>\n",
              "      <td>Resort Hotel</td>\n",
              "      <td>0</td>\n",
              "      <td>7</td>\n",
              "      <td>2015</td>\n",
              "      <td>July</td>\n",
              "      <td>27</td>\n",
              "      <td>1</td>\n",
              "      <td>0</td>\n",
              "      <td>1</td>\n",
              "      <td>1</td>\n",
              "      <td>...</td>\n",
              "      <td>No Deposit</td>\n",
              "      <td>NaN</td>\n",
              "      <td>NaN</td>\n",
              "      <td>0</td>\n",
              "      <td>Transient</td>\n",
              "      <td>75.0</td>\n",
              "      <td>0</td>\n",
              "      <td>0</td>\n",
              "      <td>Check-Out</td>\n",
              "      <td>2015-07-02</td>\n",
              "    </tr>\n",
              "    <tr>\n",
              "      <th>3</th>\n",
              "      <td>Resort Hotel</td>\n",
              "      <td>0</td>\n",
              "      <td>13</td>\n",
              "      <td>2015</td>\n",
              "      <td>July</td>\n",
              "      <td>27</td>\n",
              "      <td>1</td>\n",
              "      <td>0</td>\n",
              "      <td>1</td>\n",
              "      <td>1</td>\n",
              "      <td>...</td>\n",
              "      <td>No Deposit</td>\n",
              "      <td>304.0</td>\n",
              "      <td>NaN</td>\n",
              "      <td>0</td>\n",
              "      <td>Transient</td>\n",
              "      <td>75.0</td>\n",
              "      <td>0</td>\n",
              "      <td>0</td>\n",
              "      <td>Check-Out</td>\n",
              "      <td>2015-07-02</td>\n",
              "    </tr>\n",
              "    <tr>\n",
              "      <th>4</th>\n",
              "      <td>Resort Hotel</td>\n",
              "      <td>0</td>\n",
              "      <td>14</td>\n",
              "      <td>2015</td>\n",
              "      <td>July</td>\n",
              "      <td>27</td>\n",
              "      <td>1</td>\n",
              "      <td>0</td>\n",
              "      <td>2</td>\n",
              "      <td>2</td>\n",
              "      <td>...</td>\n",
              "      <td>No Deposit</td>\n",
              "      <td>240.0</td>\n",
              "      <td>NaN</td>\n",
              "      <td>0</td>\n",
              "      <td>Transient</td>\n",
              "      <td>98.0</td>\n",
              "      <td>0</td>\n",
              "      <td>1</td>\n",
              "      <td>Check-Out</td>\n",
              "      <td>2015-07-03</td>\n",
              "    </tr>\n",
              "  </tbody>\n",
              "</table>\n",
              "<p>5 rows × 32 columns</p>\n",
              "</div>"
            ],
            "text/plain": [
              "          hotel  is_canceled  lead_time  arrival_date_year arrival_date_month  \\\n",
              "0  Resort Hotel            0        342               2015               July   \n",
              "1  Resort Hotel            0        737               2015               July   \n",
              "2  Resort Hotel            0          7               2015               July   \n",
              "3  Resort Hotel            0         13               2015               July   \n",
              "4  Resort Hotel            0         14               2015               July   \n",
              "\n",
              "   arrival_date_week_number  arrival_date_day_of_month  \\\n",
              "0                        27                          1   \n",
              "1                        27                          1   \n",
              "2                        27                          1   \n",
              "3                        27                          1   \n",
              "4                        27                          1   \n",
              "\n",
              "   stays_in_weekend_nights  stays_in_week_nights  adults  ...  deposit_type  \\\n",
              "0                        0                     0       2  ...    No Deposit   \n",
              "1                        0                     0       2  ...    No Deposit   \n",
              "2                        0                     1       1  ...    No Deposit   \n",
              "3                        0                     1       1  ...    No Deposit   \n",
              "4                        0                     2       2  ...    No Deposit   \n",
              "\n",
              "   agent company days_in_waiting_list customer_type   adr  \\\n",
              "0    NaN     NaN                    0     Transient   0.0   \n",
              "1    NaN     NaN                    0     Transient   0.0   \n",
              "2    NaN     NaN                    0     Transient  75.0   \n",
              "3  304.0     NaN                    0     Transient  75.0   \n",
              "4  240.0     NaN                    0     Transient  98.0   \n",
              "\n",
              "   required_car_parking_spaces  total_of_special_requests  reservation_status  \\\n",
              "0                            0                          0           Check-Out   \n",
              "1                            0                          0           Check-Out   \n",
              "2                            0                          0           Check-Out   \n",
              "3                            0                          0           Check-Out   \n",
              "4                            0                          1           Check-Out   \n",
              "\n",
              "  reservation_status_date  \n",
              "0              2015-07-01  \n",
              "1              2015-07-01  \n",
              "2              2015-07-02  \n",
              "3              2015-07-02  \n",
              "4              2015-07-03  \n",
              "\n",
              "[5 rows x 32 columns]"
            ]
          },
          "execution_count": 9,
          "metadata": {},
          "output_type": "execute_result"
        }
      ],
      "source": [
        "data_frame.head(5)"
      ]
    },
    {
      "cell_type": "code",
      "execution_count": 10,
      "id": "a95daae6-4288-4aec-b43b-a69e08932810",
      "metadata": {
        "trusted": true
      },
      "outputs": [
        {
          "name": "stdout",
          "output_type": "stream",
          "text": [
            "<class 'pandas.core.frame.DataFrame'>\n",
            "RangeIndex: 119390 entries, 0 to 119389\n",
            "Data columns (total 32 columns):\n",
            " #   Column                          Non-Null Count   Dtype  \n",
            "---  ------                          --------------   -----  \n",
            " 0   hotel                           119390 non-null  object \n",
            " 1   is_canceled                     119390 non-null  int64  \n",
            " 2   lead_time                       119390 non-null  int64  \n",
            " 3   arrival_date_year               119390 non-null  int64  \n",
            " 4   arrival_date_month              119390 non-null  object \n",
            " 5   arrival_date_week_number        119390 non-null  int64  \n",
            " 6   arrival_date_day_of_month       119390 non-null  int64  \n",
            " 7   stays_in_weekend_nights         119390 non-null  int64  \n",
            " 8   stays_in_week_nights            119390 non-null  int64  \n",
            " 9   adults                          119390 non-null  int64  \n",
            " 10  children                        119386 non-null  float64\n",
            " 11  babies                          119390 non-null  int64  \n",
            " 12  meal                            119390 non-null  object \n",
            " 13  country                         118902 non-null  object \n",
            " 14  market_segment                  119390 non-null  object \n",
            " 15  distribution_channel            119390 non-null  object \n",
            " 16  is_repeated_guest               119390 non-null  int64  \n",
            " 17  previous_cancellations          119390 non-null  int64  \n",
            " 18  previous_bookings_not_canceled  119390 non-null  int64  \n",
            " 19  reserved_room_type              119390 non-null  object \n",
            " 20  assigned_room_type              119390 non-null  object \n",
            " 21  booking_changes                 119390 non-null  int64  \n",
            " 22  deposit_type                    119390 non-null  object \n",
            " 23  agent                           103050 non-null  float64\n",
            " 24  company                         6797 non-null    float64\n",
            " 25  days_in_waiting_list            119390 non-null  int64  \n",
            " 26  customer_type                   119390 non-null  object \n",
            " 27  adr                             119390 non-null  float64\n",
            " 28  required_car_parking_spaces     119390 non-null  int64  \n",
            " 29  total_of_special_requests       119390 non-null  int64  \n",
            " 30  reservation_status              119390 non-null  object \n",
            " 31  reservation_status_date         119390 non-null  object \n",
            "dtypes: float64(4), int64(16), object(12)\n",
            "memory usage: 29.1+ MB\n"
          ]
        }
      ],
      "source": [
        "data_frame.info()"
      ]
    },
    {
      "cell_type": "code",
      "execution_count": 11,
      "id": "97f3022d-3e4b-463e-8125-0d1d43f06ed7",
      "metadata": {
        "trusted": true
      },
      "outputs": [
        {
          "data": {
            "text/plain": [
              "hotel                                2\n",
              "is_canceled                          2\n",
              "lead_time                          479\n",
              "arrival_date_year                    3\n",
              "arrival_date_month                  12\n",
              "arrival_date_week_number            53\n",
              "arrival_date_day_of_month           31\n",
              "stays_in_weekend_nights             17\n",
              "stays_in_week_nights                35\n",
              "adults                              14\n",
              "children                             5\n",
              "babies                               5\n",
              "meal                                 5\n",
              "country                            177\n",
              "market_segment                       8\n",
              "distribution_channel                 5\n",
              "is_repeated_guest                    2\n",
              "previous_cancellations              15\n",
              "previous_bookings_not_canceled      73\n",
              "reserved_room_type                  10\n",
              "assigned_room_type                  12\n",
              "booking_changes                     21\n",
              "deposit_type                         3\n",
              "agent                              333\n",
              "company                            352\n",
              "days_in_waiting_list               128\n",
              "customer_type                        4\n",
              "adr                               8879\n",
              "required_car_parking_spaces          5\n",
              "total_of_special_requests            6\n",
              "reservation_status                   3\n",
              "reservation_status_date            926\n",
              "dtype: int64"
            ]
          },
          "execution_count": 11,
          "metadata": {},
          "output_type": "execute_result"
        }
      ],
      "source": [
        "data_frame.nunique()"
      ]
    },
    {
      "cell_type": "code",
      "execution_count": 12,
      "id": "b2c69814-6eea-418b-966d-5428ccc9b9ff",
      "metadata": {
        "trusted": true
      },
      "outputs": [
        {
          "data": {
            "text/plain": [
              "hotel                                  0\n",
              "is_canceled                            0\n",
              "lead_time                              0\n",
              "arrival_date_year                      0\n",
              "arrival_date_month                     0\n",
              "arrival_date_week_number               0\n",
              "arrival_date_day_of_month              0\n",
              "stays_in_weekend_nights                0\n",
              "stays_in_week_nights                   0\n",
              "adults                                 0\n",
              "children                               4\n",
              "babies                                 0\n",
              "meal                                   0\n",
              "country                              488\n",
              "market_segment                         0\n",
              "distribution_channel                   0\n",
              "is_repeated_guest                      0\n",
              "previous_cancellations                 0\n",
              "previous_bookings_not_canceled         0\n",
              "reserved_room_type                     0\n",
              "assigned_room_type                     0\n",
              "booking_changes                        0\n",
              "deposit_type                           0\n",
              "agent                              16340\n",
              "company                           112593\n",
              "days_in_waiting_list                   0\n",
              "customer_type                          0\n",
              "adr                                    0\n",
              "required_car_parking_spaces            0\n",
              "total_of_special_requests              0\n",
              "reservation_status                     0\n",
              "reservation_status_date                0\n",
              "dtype: int64"
            ]
          },
          "execution_count": 12,
          "metadata": {},
          "output_type": "execute_result"
        }
      ],
      "source": [
        "data_frame.isnull().sum()"
      ]
    },
    {
      "cell_type": "code",
      "execution_count": 13,
      "id": "a7209e97-1165-42b1-87ea-8ea26dbb7e3b",
      "metadata": {
        "trusted": true
      },
      "outputs": [
        {
          "data": {
            "text/plain": [
              "0           NaN\n",
              "1           NaN\n",
              "2           NaN\n",
              "3         304.0\n",
              "4         240.0\n",
              "          ...  \n",
              "119385    394.0\n",
              "119386      9.0\n",
              "119387      9.0\n",
              "119388     89.0\n",
              "119389      9.0\n",
              "Name: agent, Length: 119390, dtype: float64"
            ]
          },
          "execution_count": 13,
          "metadata": {},
          "output_type": "execute_result"
        }
      ],
      "source": [
        "data_frame['agent'] # czy agent bedzie mial znaczenie przy rezerwacji?"
      ]
    },
    {
      "cell_type": "markdown",
      "id": "d0a21002",
      "metadata": {},
      "source": [
        "### Uzupełnienie braków danych"
      ]
    },
    {
      "cell_type": "code",
      "execution_count": 14,
      "id": "c3f9fe0d-e418-4fc1-b694-4f6ca824a0e6",
      "metadata": {
        "trusted": true
      },
      "outputs": [],
      "source": [
        "null_replacements = {\"children:\": 0, \"country\": \"Unknown\", \"agent\": 0, \"company\": 0}"
      ]
    },
    {
      "cell_type": "code",
      "execution_count": 15,
      "id": "83e58a28-eac4-4b83-a578-ec3cbc24debc",
      "metadata": {
        "trusted": true
      },
      "outputs": [],
      "source": [
        "hotels_df = data_frame.fillna(null_replacements)"
      ]
    },
    {
      "cell_type": "markdown",
      "id": "eb36ee18",
      "metadata": {},
      "source": [
        "### Sprawdzenie rozkładów zmiennych liczbowych"
      ]
    },
    {
      "cell_type": "code",
      "execution_count": 16,
      "id": "982978d8-f93c-4ef1-b0c1-f394f8d25b27",
      "metadata": {
        "trusted": true
      },
      "outputs": [
        {
          "data": {
            "text/plain": [
              "array([[<Axes: title={'center': 'lead_time'}>,\n",
              "        <Axes: title={'center': 'adr'}>]], dtype=object)"
            ]
          },
          "execution_count": 16,
          "metadata": {},
          "output_type": "execute_result"
        },
        {
          "data": {
            "image/png": "[encoded data removed]",
            "text/plain": [
              "<Figure size 1500x600 with 2 Axes>"
            ]
          },
          "metadata": {},
          "output_type": "display_data"
        }
      ],
      "source": [
        "hotels_df[['lead_time', 'adr']].hist(figsize=(15,6), bins=160)"
      ]
    },
    {
      "cell_type": "markdown",
      "id": "4bfdac78",
      "metadata": {},
      "source": [
        "### Jak to wygląda w przypadku dzieci?"
      ]
    },
    {
      "cell_type": "code",
      "execution_count": 17,
      "id": "bf9299f8-e62a-483a-b5ec-5c8fb58a10f5",
      "metadata": {
        "trusted": true
      },
      "outputs": [
        {
          "data": {
            "text/plain": [
              "array([[<Axes: title={'center': 'adults'}>,\n",
              "        <Axes: title={'center': 'babies'}>],\n",
              "       [<Axes: title={'center': 'children'}>, <Axes: >]], dtype=object)"
            ]
          },
          "execution_count": 17,
          "metadata": {},
          "output_type": "execute_result"
        },
        {
          "data": {
            "image/png": "[encoded data removed]",
            "text/plain": [
              "<Figure size 1500x1000 with 4 Axes>"
            ]
          },
          "metadata": {},
          "output_type": "display_data"
        }
      ],
      "source": [
        "\n",
        "hotels_df[['adults','babies','children']].hist(figsize = (15,10), bins = 10, range = (0,5))"
      ]
    },
    {
      "cell_type": "markdown",
      "id": "ed9dc2f8",
      "metadata": {},
      "source": [
        "#### Czy rodzaj hotelu ma znaczenie w kontekście rezerwacji"
      ]
    },
    {
      "cell_type": "code",
      "execution_count": 18,
      "id": "44a2505f-6449-4d96-b25c-6d51d3b42a2a",
      "metadata": {
        "trusted": true
      },
      "outputs": [
        {
          "data": {
            "text/plain": [
              "<matplotlib.legend.Legend at 0x17ef7a77790>"
            ]
          },
          "execution_count": 18,
          "metadata": {},
          "output_type": "execute_result"
        },
        {
          "data": {
            "image/png": "[encoded data removed]",
            "text/plain": [
              "<Figure size 800x600 with 1 Axes>"
            ]
          },
          "metadata": {},
          "output_type": "display_data"
        }
      ],
      "source": [
        "# warto zrobić analizę osobno dla city hotel i resort\n",
        "counts = hotels_df.groupby([\"hotel\", \"is_canceled\"]).size().unstack()\n",
        "\n",
        "fig, ax = plt.subplots(figsize=(8, 6))\n",
        "counts.plot(kind=\"bar\", stacked=False, ax=ax, colormap=\"tab10\")  # Można zmienić colormap\n",
        "\n",
        "ax.set_xlabel(\"Hotel\")\n",
        "ax.set_ylabel(\"Liczba rezerwacji\")\n",
        "ax.set_title(\"Liczba rezerwacji według hotelu i anulacji\")\n",
        "ax.legend(title=\"Czy anulowano\") # wiecej anulowane jest w hotelu miejskim (wzglednie)"
      ]
    },
    {
      "cell_type": "markdown",
      "id": "45eb85e0",
      "metadata": {},
      "source": [
        "### Macierz korelacji"
      ]
    },
    {
      "cell_type": "code",
      "execution_count": 19,
      "id": "24a8f8c0-3ab7-40ff-b65a-fae355e2eda6",
      "metadata": {
        "trusted": true
      },
      "outputs": [
        {
          "data": {
            "text/plain": [
              "[Text(0, 0, 'is_canceled'),\n",
              " Text(0, 1, 'lead_time'),\n",
              " Text(0, 2, 'arrival_date_year'),\n",
              " Text(0, 3, 'arrival_date_week_number'),\n",
              " Text(0, 4, 'arrival_date_day_of_month'),\n",
              " Text(0, 5, 'stays_in_weekend_nights'),\n",
              " Text(0, 6, 'stays_in_week_nights'),\n",
              " Text(0, 7, 'adults'),\n",
              " Text(0, 8, 'children'),\n",
              " Text(0, 9, 'babies'),\n",
              " Text(0, 10, 'is_repeated_guest'),\n",
              " Text(0, 11, 'previous_cancellations'),\n",
              " Text(0, 12, 'previous_bookings_not_canceled'),\n",
              " Text(0, 13, 'booking_changes'),\n",
              " Text(0, 14, 'agent'),\n",
              " Text(0, 15, 'company'),\n",
              " Text(0, 16, 'days_in_waiting_list'),\n",
              " Text(0, 17, 'adr'),\n",
              " Text(0, 18, 'required_car_parking_spaces'),\n",
              " Text(0, 19, 'total_of_special_requests')]"
            ]
          },
          "execution_count": 19,
          "metadata": {},
          "output_type": "execute_result"
        },
        {
          "data": {
            "image/png": "[encoded data removed]",
            "text/plain": [
              "<Figure size 800x600 with 2 Axes>"
            ]
          },
          "metadata": {},
          "output_type": "display_data"
        }
      ],
      "source": [
        "num_features = hotels_df.select_dtypes(include=['number']).columns.tolist()\n",
        "corr_matrix = hotels_df[num_features].corr()\n",
        "\n",
        "fig, ax = plt.subplots(figsize=(8, 6)) \n",
        "cax = ax.imshow(corr_matrix, cmap=\"BrBG\", vmin=-1, vmax=1)\n",
        "\n",
        "cbar = fig.colorbar(cax)\n",
        "\n",
        "ax.set_xticks(np.arange(len(num_features)))\n",
        "ax.set_yticks(np.arange(len(num_features)))\n",
        "ax.set_xticklabels(num_features, rotation=90)\n",
        "ax.set_yticklabels(num_features)"
      ]
    },
    {
      "cell_type": "markdown",
      "id": "967739d2",
      "metadata": {},
      "source": [
        "Widac nieznacza korelacje children z adr, lead_time z is_canceled, ujemna total_of_special_requests z is_canceled"
      ]
    },
    {
      "cell_type": "markdown",
      "id": "8e0d2d0e",
      "metadata": {},
      "source": [
        "#### Czy ponowni goscie sa mniej sklonni od odwolywania rezerwacji?"
      ]
    },
    {
      "cell_type": "code",
      "execution_count": 20,
      "id": "203c657a-79f8-463d-8139-5a1a40dee0d6",
      "metadata": {
        "trusted": true
      },
      "outputs": [
        {
          "data": {
            "text/plain": [
              "np.float64(0.14488188976377953)"
            ]
          },
          "execution_count": 20,
          "metadata": {},
          "output_type": "execute_result"
        }
      ],
      "source": [
        "hotels_df.loc[hotels_df[\"is_repeated_guest\"] == 1, \"is_canceled\"].mean()"
      ]
    },
    {
      "cell_type": "code",
      "execution_count": 21,
      "id": "4ea123a3-5256-4777-8129-7d3487304b50",
      "metadata": {
        "trusted": true
      },
      "outputs": [
        {
          "data": {
            "text/plain": [
              "np.float64(0.3778508392455442)"
            ]
          },
          "execution_count": 21,
          "metadata": {},
          "output_type": "execute_result"
        }
      ],
      "source": [
        "hotels_df.loc[hotels_df[\"is_repeated_guest\"] == 0, \"is_canceled\"].mean()"
      ]
    },
    {
      "cell_type": "markdown",
      "id": "007a352e",
      "metadata": {},
      "source": [
        "Wygląda na to że to czy ktoś już był gościem wcześniej ma wpływ na odwołanie rezerwacji 38% do ok. 14%"
      ]
    },
    {
      "cell_type": "markdown",
      "id": "66063225-3ff1-4bc6-b026-b43077ed4afb",
      "metadata": {},
      "source": [
        "### Outliers"
      ]
    },
    {
      "cell_type": "code",
      "execution_count": 22,
      "id": "c42a3fcc-50ac-436a-9d9a-534c10dc5c1e",
      "metadata": {
        "trusted": true
      },
      "outputs": [
        {
          "data": {
            "text/plain": [
              "array(['Direct', 'Corporate', 'Online TA', 'Offline TA/TO',\n",
              "       'Complementary', 'Groups', 'Undefined', 'Aviation'], dtype=object)"
            ]
          },
          "execution_count": 22,
          "metadata": {},
          "output_type": "execute_result"
        }
      ],
      "source": [
        "hotels_df['market_segment'].unique()"
      ]
    },
    {
      "cell_type": "code",
      "execution_count": 23,
      "id": "90fbf1bc-3ca0-4ccf-b710-8f82c0e5b03c",
      "metadata": {
        "trusted": true
      },
      "outputs": [
        {
          "data": {
            "text/plain": [
              "Index(['hotel', 'is_canceled', 'lead_time', 'arrival_date_year',\n",
              "       'arrival_date_month', 'arrival_date_week_number',\n",
              "       'arrival_date_day_of_month', 'stays_in_weekend_nights',\n",
              "       'stays_in_week_nights', 'adults', 'children', 'babies', 'meal',\n",
              "       'country', 'market_segment', 'distribution_channel',\n",
              "       'is_repeated_guest', 'previous_cancellations',\n",
              "       'previous_bookings_not_canceled', 'reserved_room_type',\n",
              "       'assigned_room_type', 'booking_changes', 'deposit_type', 'agent',\n",
              "       'company', 'days_in_waiting_list', 'customer_type', 'adr',\n",
              "       'required_car_parking_spaces', 'total_of_special_requests',\n",
              "       'reservation_status', 'reservation_status_date'],\n",
              "      dtype='object')"
            ]
          },
          "execution_count": 23,
          "metadata": {},
          "output_type": "execute_result"
        }
      ],
      "source": [
        "hotels_df.columns"
      ]
    },
    {
      "cell_type": "code",
      "execution_count": 24,
      "id": "ff42e2f2-844f-4d94-9543-10a353a74cf5",
      "metadata": {
        "trusted": true
      },
      "outputs": [
        {
          "data": {
            "text/plain": [
              "dtype('int64')"
            ]
          },
          "execution_count": 24,
          "metadata": {},
          "output_type": "execute_result"
        }
      ],
      "source": [
        "hotels_df['lead_time'].dtype"
      ]
    },
    {
      "cell_type": "code",
      "execution_count": 25,
      "id": "985ddfa3-5a44-4f13-a53e-84b321d55a66",
      "metadata": {
        "trusted": true
      },
      "outputs": [
        {
          "data": {
            "image/png": "[encoded data removed]",
            "text/plain": [
              "<Figure size 640x480 with 1 Axes>"
            ]
          },
          "metadata": {},
          "output_type": "display_data"
        }
      ],
      "source": [
        "sns.boxplot(y=hotels_df['lead_time'], x = hotels_df['is_canceled'])\n",
        "plt.show()"
      ]
    },
    {
      "cell_type": "code",
      "execution_count": 26,
      "id": "848f0186-d7c4-4cf9-af91-d87ae1f082c7",
      "metadata": {
        "trusted": true
      },
      "outputs": [
        {
          "data": {
            "text/plain": [
              "np.int64(5)"
            ]
          },
          "execution_count": 26,
          "metadata": {},
          "output_type": "execute_result"
        }
      ],
      "source": [
        "hotels_df['total_of_special_requests'].max()"
      ]
    },
    {
      "cell_type": "markdown",
      "id": "e598b600",
      "metadata": {},
      "source": [
        "Ten outlier 2 wartości w lead_time niczym specjalnym się nie wyróżnia"
      ]
    },
    {
      "cell_type": "markdown",
      "id": "eddfc79f-2d10-44b9-8b29-b5051c8c4153",
      "metadata": {},
      "source": [
        "### Czy przydzielenie innego pokoju ma wpływ na odwołanie rezerwacji?"
      ]
    },
    {
      "cell_type": "code",
      "execution_count": 27,
      "id": "46aeccdf-b3c2-457f-9099-e9f72e951166",
      "metadata": {
        "trusted": true
      },
      "outputs": [],
      "source": [
        "hotels_df['is_reserved_compatible'] = (hotels_df['assigned_room_type'] == hotels_df['reserved_room_type']).astype(int)"
      ]
    },
    {
      "cell_type": "code",
      "execution_count": 28,
      "id": "8e9a49d2-3474-446f-bf97-5bea5936f30d",
      "metadata": {
        "trusted": true
      },
      "outputs": [
        {
          "data": {
            "text/plain": [
              "np.float64(0.5180752156797052)"
            ]
          },
          "execution_count": 28,
          "metadata": {},
          "output_type": "execute_result"
        }
      ],
      "source": [
        "(hotels_df['is_reserved_compatible'] != hotels_df['is_canceled']).mean()"
      ]
    },
    {
      "cell_type": "markdown",
      "id": "6b644f32",
      "metadata": {},
      "source": [
        "Niespecjalnie"
      ]
    },
    {
      "cell_type": "markdown",
      "id": "0adda5e5-17ce-4bcb-a4a2-f9ca76ed0ac1",
      "metadata": {},
      "source": [
        "# Selekcja cech\n",
        "### Analiza wpływu zmiennych na etykietę docelową"
      ]
    },
    {
      "cell_type": "code",
      "execution_count": 29,
      "id": "c19409f5-4a7d-4034-bfee-a00d08e2af64",
      "metadata": {
        "trusted": true
      },
      "outputs": [
        {
          "data": {
            "text/plain": [
              "is_canceled                       1.000000\n",
              "lead_time                         0.293123\n",
              "previous_cancellations            0.110133\n",
              "adults                            0.060017\n",
              "days_in_waiting_list              0.054186\n",
              "adr                               0.047557\n",
              "stays_in_week_nights              0.024765\n",
              "arrival_date_year                 0.016660\n",
              "arrival_date_week_number          0.008148\n",
              "children                          0.005048\n",
              "stays_in_weekend_nights          -0.001791\n",
              "arrival_date_day_of_month        -0.006130\n",
              "babies                           -0.032491\n",
              "agent                            -0.046529\n",
              "previous_bookings_not_canceled   -0.057358\n",
              "company                          -0.082995\n",
              "is_repeated_guest                -0.084793\n",
              "booking_changes                  -0.144381\n",
              "required_car_parking_spaces      -0.195498\n",
              "total_of_special_requests        -0.234658\n",
              "Name: is_canceled, dtype: float64"
            ]
          },
          "execution_count": 29,
          "metadata": {},
          "output_type": "execute_result"
        }
      ],
      "source": [
        "hotels_df[num_features].corr()['is_canceled'].sort_values(ascending=False)"
      ]
    },
    {
      "cell_type": "markdown",
      "id": "e46ab39b",
      "metadata": {},
      "source": [
        "Rzuca się w oczy parę korelacji z naszą etykietą: **total_of_special_requests**, \\\n",
        "      **required_car_parking_spaces**, **booking changes**, **lead_time**, **previous cancelations**. \\\n",
        "      Wszystkie z grubsza wyglądają na sensowne zależności"
      ]
    },
    {
      "cell_type": "code",
      "execution_count": 30,
      "id": "cc440f70-03ce-4f34-9fb4-1c2c023c9b2c",
      "metadata": {
        "trusted": true
      },
      "outputs": [
        {
          "data": {
            "text/plain": [
              "Index(['hotel', 'is_canceled', 'lead_time', 'arrival_date_year',\n",
              "       'arrival_date_month', 'arrival_date_week_number',\n",
              "       'arrival_date_day_of_month', 'stays_in_weekend_nights',\n",
              "       'stays_in_week_nights', 'adults', 'children', 'babies', 'meal',\n",
              "       'country', 'market_segment', 'distribution_channel',\n",
              "       'is_repeated_guest', 'previous_cancellations',\n",
              "       'previous_bookings_not_canceled', 'reserved_room_type',\n",
              "       'assigned_room_type', 'booking_changes', 'deposit_type', 'agent',\n",
              "       'company', 'days_in_waiting_list', 'customer_type', 'adr',\n",
              "       'required_car_parking_spaces', 'total_of_special_requests',\n",
              "       'reservation_status', 'reservation_status_date',\n",
              "       'is_reserved_compatible'],\n",
              "      dtype='object')"
            ]
          },
          "execution_count": 30,
          "metadata": {},
          "output_type": "execute_result"
        }
      ],
      "source": [
        "hotels_df.columns"
      ]
    },
    {
      "cell_type": "markdown",
      "id": "3912d4fa",
      "metadata": {},
      "source": [
        "# Feature engeneering"
      ]
    },
    {
      "cell_type": "markdown",
      "id": "17a021e8",
      "metadata": {},
      "source": [
        "### Czy stosunek odwołanych do wszystkich łącznie rezerwacji ma większe znaczenie niż same te zmienne bez łączenia ze sobą?"
      ]
    },
    {
      "cell_type": "code",
      "execution_count": 31,
      "id": "8b47d76c",
      "metadata": {},
      "outputs": [],
      "source": [
        "# trzeba znalezc najlepsza wartosc ktora trzeba wstawic aby zmaksymalizowac korelacje dla nowego goscia\n",
        "hotels_df[\"cancelations_proportion\"] = hotels_df.apply(\n",
        "    lambda row: 0.5 if row[\"is_repeated_guest\"] == 0 else row[\"previous_cancellations\"] / \n",
        "    (row[\"previous_cancellations\"] + row[\"previous_bookings_not_canceled\"]) \n",
        "    if (row[\"previous_cancellations\"] + row[\"previous_bookings_not_canceled\"]) > 0 else 0.5,\n",
        "    axis=1\n",
        ")"
      ]
    },
    {
      "cell_type": "code",
      "execution_count": 32,
      "id": "bccbe212",
      "metadata": {},
      "outputs": [
        {
          "data": {
            "text/plain": [
              "np.float64(0.12307597809083452)"
            ]
          },
          "execution_count": 32,
          "metadata": {},
          "output_type": "execute_result"
        }
      ],
      "source": [
        "from scipy.stats import spearmanr, pearsonr\n",
        "corr, p_value = pearsonr(hotels_df[\"is_canceled\"], hotels_df[\"cancelations_proportion\"])\n",
        "corr\n",
        "# nie jest to spora korelacja"
      ]
    },
    {
      "cell_type": "markdown",
      "id": "8fc8623d",
      "metadata": {},
      "source": [
        "### Tutaj połączę dwie cechy: tworząc binarną czy przypisany pokój jest kompatybilny z tym który był zarezerwowany"
      ]
    },
    {
      "cell_type": "code",
      "execution_count": 33,
      "id": "b4f74f17",
      "metadata": {},
      "outputs": [
        {
          "data": {
            "text/plain": [
              "np.float64(0.24777035043915915)"
            ]
          },
          "execution_count": 33,
          "metadata": {},
          "output_type": "execute_result"
        }
      ],
      "source": [
        "hotels_df['is_reserved_compatible'] = (hotels_df['assigned_room_type'] == hotels_df['reserved_room_type']).astype(int)\n",
        "corr, p_value = pearsonr(hotels_df[\"is_canceled\"], hotels_df[\"is_reserved_compatible\"])\n",
        "corr\n",
        "# otrzymaliśmy dość znaczącą korelację"
      ]
    },
    {
      "cell_type": "code",
      "execution_count": 34,
      "id": "3c4cd087",
      "metadata": {},
      "outputs": [],
      "source": [
        "# %pip install scikit-learn"
      ]
    },
    {
      "cell_type": "markdown",
      "id": "0843606e",
      "metadata": {},
      "source": [
        "### One hot encoding miesięcy"
      ]
    },
    {
      "cell_type": "code",
      "execution_count": 35,
      "id": "581cef8f",
      "metadata": {},
      "outputs": [],
      "source": [
        "from scipy.stats import chi2_contingency\n",
        "from sklearn.preprocessing import OneHotEncoder\n",
        "encoder = OneHotEncoder(sparse_output=False)\n",
        "encoded_months = encoder.fit_transform(hotels_df[['arrival_date_month']])\n",
        "encoded_df = pd.DataFrame(encoded_months, columns=encoder.categories_[0])\n"
      ]
    },
    {
      "cell_type": "code",
      "execution_count": 36,
      "id": "6495c076",
      "metadata": {},
      "outputs": [],
      "source": [
        "encoded_df['is_canceled'] = hotels_df['is_canceled']"
      ]
    },
    {
      "cell_type": "code",
      "execution_count": 37,
      "id": "27e6e256",
      "metadata": {},
      "outputs": [
        {
          "name": "stdout",
          "output_type": "stream",
          "text": [
            "73.75472059084342 8.845249778293669e-18\n",
            "3.3739590582977 0.06623440840263277\n",
            "13.127808026156316 0.00029094496667349425\n",
            "48.60695818565989 3.127575912050314e-12\n",
            "114.97972468984233 7.950622135636396e-27\n",
            "1.0110517822344134 0.3146509963536658\n",
            "100.4701751170565 1.2019327244141401e-23\n",
            "109.13749786116276 1.5140996879632633e-25\n",
            "38.508987480594506 5.450212086769931e-10\n",
            "103.94578617331031 2.079284301465499e-24\n",
            "5.284006297832651 0.021522170785138142\n",
            "22.284512368353834 2.350951094556173e-06\n"
          ]
        }
      ],
      "source": [
        "for column in encoded_df.drop('is_canceled', axis=1).columns:\n",
        "    contingency_table = pd.crosstab(encoded_df['is_canceled'], encoded_df[column])\n",
        "    chi2_stat, p_value, dof, expected = chi2_contingency(contingency_table)\n",
        "    print(chi2_stat, p_value)\n",
        "# Maj ma największe znaczenie z wybranych miesięcy - najmniejsza wartość p"
      ]
    },
    {
      "cell_type": "code",
      "execution_count": 38,
      "id": "52cc8de5",
      "metadata": {},
      "outputs": [
        {
          "name": "stdout",
          "output_type": "stream",
          "text": [
            "0.024884714811071428\n",
            "0.0053430698084774506\n",
            "-0.010523525996369654\n",
            "-0.020211950110526032\n",
            "-0.031073126262030484\n",
            "0.002938231085693709\n",
            "0.0290391835234697\n",
            "-0.030266118422632368\n",
            "0.01798868536710658\n",
            "-0.029544054964281842\n",
            "0.0066824876284046235\n",
            "0.013692713918629432\n"
          ]
        }
      ],
      "source": [
        "for column in encoded_df.drop('is_canceled', axis=1).columns:\n",
        "    correlation = encoded_df[column].corr(hotels_df['is_canceled'])\n",
        "    print(correlation)\n",
        "# dodajmy one hot miesiace do hotels_df\n",
        "hotels_df = pd.concat([hotels_df, encoded_df], axis=1)"
      ]
    },
    {
      "cell_type": "markdown",
      "id": "bee4e42f",
      "metadata": {},
      "source": [
        "#### Usuwanie outlierow z lead_time"
      ]
    },
    {
      "cell_type": "code",
      "execution_count": 39,
      "id": "fb05d26b",
      "metadata": {},
      "outputs": [
        {
          "data": {
            "image/png": "[encoded data removed]",
            "text/plain": [
              "<Figure size 640x480 with 1 Axes>"
            ]
          },
          "metadata": {},
          "output_type": "display_data"
        },
        {
          "data": {
            "image/png": "[encoded data removed]",
            "text/plain": [
              "<Figure size 1000x600 with 1 Axes>"
            ]
          },
          "metadata": {},
          "output_type": "display_data"
        }
      ],
      "source": [
        "hotels_df = hotels_df.loc[:, ~hotels_df.columns.duplicated()]\n",
        "sns.boxplot(data = hotels_df, y = 'lead_time', x = 'is_canceled')\n",
        "plt.figure(figsize=(10, 6))\n",
        "\n",
        "plt.hist(hotels_df[hotels_df['is_canceled'] == 0]['lead_time'], bins=30, alpha=0.5, label='Not Canceled')\n",
        "\n",
        "plt.hist(hotels_df[hotels_df['is_canceled'] == 1]['lead_time'], bins=30, alpha=0.5, label='Canceled')\n",
        "\n",
        "plt.title('Histogram of Lead Time by Cancellation Status')\n",
        "plt.xlabel('Lead Time')\n",
        "plt.ylabel('Frequency')\n",
        "plt.legend()\n",
        "\n",
        "plt.show()\n"
      ]
    },
    {
      "cell_type": "code",
      "execution_count": 40,
      "id": "a5198caf",
      "metadata": {},
      "outputs": [
        {
          "name": "stdout",
          "output_type": "stream",
          "text": [
            "lead_time\n",
            "0      6345\n",
            "1      3460\n",
            "2      2069\n",
            "3      1816\n",
            "4      1715\n",
            "       ... \n",
            "622      17\n",
            "626      30\n",
            "629      17\n",
            "709       1\n",
            "737       1\n",
            "Name: count, Length: 479, dtype: int64\n"
          ]
        }
      ],
      "source": [
        "# pozbedziemy sie dwoch najwiekszych wartosci z lead_time\n",
        "value_counts = hotels_df['lead_time'].value_counts()\n",
        "sorted_values = value_counts.sort_index()\n",
        "print(sorted_values)"
      ]
    },
    {
      "cell_type": "code",
      "execution_count": 41,
      "id": "a2866715",
      "metadata": {},
      "outputs": [],
      "source": [
        "# threshold wystarczy ustawic na powyzej 700\n",
        "hotels_df = hotels_df[hotels_df['lead_time'] <= 700]"
      ]
    },
    {
      "cell_type": "markdown",
      "id": "a8e2f33d",
      "metadata": {},
      "source": [
        "## Standaryzacja, normalizacja, Encoding, usuwanie outlierów"
      ]
    },
    {
      "cell_type": "code",
      "execution_count": 42,
      "id": "f7473f20",
      "metadata": {},
      "outputs": [],
      "source": [
        "hotels_df = pd.get_dummies(hotels_df, columns=['hotel'])"
      ]
    },
    {
      "cell_type": "code",
      "execution_count": null,
      "id": "20e50195",
      "metadata": {},
      "outputs": [],
      "source": [
        "hotels_df = hotels_df.rename(columns={'hotel_City Hotel': 'City', 'hotel_Resort Hotel': 'Resort'})"
      ]
    },
    {
      "cell_type": "code",
      "execution_count": null,
      "id": "75ef52c7",
      "metadata": {},
      "outputs": [],
      "source": [
        "hotels_df = hotels_df.loc[:, ~hotels_df.columns.duplicated()].copy()"
      ]
    },
    {
      "cell_type": "code",
      "execution_count": 45,
      "id": "fdb6385b",
      "metadata": {},
      "outputs": [
        {
          "name": "stderr",
          "output_type": "stream",
          "text": [
            "C:\\Users\\Admin\\AppData\\Local\\Temp\\ipykernel_8064\\3153143216.py:1: FutureWarning: Downcasting behavior in `replace` is deprecated and will be removed in a future version. To retain the old behavior, explicitly call `result.infer_objects(copy=False)`. To opt-in to the future behavior, set `pd.set_option('future.no_silent_downcasting', True)`\n",
            "  hotels_df[['City', 'Resort']] = hotels_df[['City', 'Resort']].replace({True: 1, False: 0})\n"
          ]
        }
      ],
      "source": [
        "hotels_df[['City', 'Resort']] = hotels_df[['City', 'Resort']].replace({True: 1, False: 0})"
      ]
    },
    {
      "cell_type": "code",
      "execution_count": 46,
      "id": "635d6ea7",
      "metadata": {},
      "outputs": [
        {
          "name": "stderr",
          "output_type": "stream",
          "text": [
            "c:\\Users\\Admin\\AppData\\Local\\Programs\\Python\\Python39\\lib\\site-packages\\pandas\\core\\arraylike.py:399: RuntimeWarning: divide by zero encountered in log\n",
            "  result = getattr(ufunc, method)(*inputs, **kwargs)\n"
          ]
        }
      ],
      "source": [
        "hotels_df['log_lead_time'] = np.log(hotels_df['lead_time'])\n",
        "hotels_df['lead_time_norm'] = (hotels_df['lead_time'] - hotels_df['lead_time'].min()) / (hotels_df['lead_time'].max() - hotels_df['lead_time'].min())"
      ]
    },
    {
      "cell_type": "code",
      "execution_count": 47,
      "id": "92d52d29",
      "metadata": {},
      "outputs": [
        {
          "data": {
            "text/html": [
              "<div>\n",
              "<style scoped>\n",
              "    .dataframe tbody tr th:only-of-type {\n",
              "        vertical-align: middle;\n",
              "    }\n",
              "\n",
              "    .dataframe tbody tr th {\n",
              "        vertical-align: top;\n",
              "    }\n",
              "\n",
              "    .dataframe thead th {\n",
              "        text-align: right;\n",
              "    }\n",
              "</style>\n",
              "<table border=\"1\" class=\"dataframe\">\n",
              "  <thead>\n",
              "    <tr style=\"text-align: right;\">\n",
              "      <th></th>\n",
              "      <th>is_canceled</th>\n",
              "      <th>lead_time</th>\n",
              "      <th>arrival_date_year</th>\n",
              "      <th>arrival_date_month</th>\n",
              "      <th>arrival_date_week_number</th>\n",
              "      <th>arrival_date_day_of_month</th>\n",
              "      <th>stays_in_weekend_nights</th>\n",
              "      <th>stays_in_week_nights</th>\n",
              "      <th>adults</th>\n",
              "      <th>children</th>\n",
              "      <th>...</th>\n",
              "      <th>June</th>\n",
              "      <th>March</th>\n",
              "      <th>May</th>\n",
              "      <th>November</th>\n",
              "      <th>October</th>\n",
              "      <th>September</th>\n",
              "      <th>City</th>\n",
              "      <th>Resort</th>\n",
              "      <th>log_lead_time</th>\n",
              "      <th>lead_time_norm</th>\n",
              "    </tr>\n",
              "  </thead>\n",
              "  <tbody>\n",
              "    <tr>\n",
              "      <th>0</th>\n",
              "      <td>0</td>\n",
              "      <td>342</td>\n",
              "      <td>2015</td>\n",
              "      <td>July</td>\n",
              "      <td>27</td>\n",
              "      <td>1</td>\n",
              "      <td>0</td>\n",
              "      <td>0</td>\n",
              "      <td>2</td>\n",
              "      <td>0.0</td>\n",
              "      <td>...</td>\n",
              "      <td>0.0</td>\n",
              "      <td>0.0</td>\n",
              "      <td>0.0</td>\n",
              "      <td>0.0</td>\n",
              "      <td>0.0</td>\n",
              "      <td>0.0</td>\n",
              "      <td>0</td>\n",
              "      <td>1</td>\n",
              "      <td>5.834811</td>\n",
              "      <td>0.543720</td>\n",
              "    </tr>\n",
              "    <tr>\n",
              "      <th>2</th>\n",
              "      <td>0</td>\n",
              "      <td>7</td>\n",
              "      <td>2015</td>\n",
              "      <td>July</td>\n",
              "      <td>27</td>\n",
              "      <td>1</td>\n",
              "      <td>0</td>\n",
              "      <td>1</td>\n",
              "      <td>1</td>\n",
              "      <td>0.0</td>\n",
              "      <td>...</td>\n",
              "      <td>0.0</td>\n",
              "      <td>0.0</td>\n",
              "      <td>0.0</td>\n",
              "      <td>0.0</td>\n",
              "      <td>0.0</td>\n",
              "      <td>0.0</td>\n",
              "      <td>0</td>\n",
              "      <td>1</td>\n",
              "      <td>1.945910</td>\n",
              "      <td>0.011129</td>\n",
              "    </tr>\n",
              "    <tr>\n",
              "      <th>3</th>\n",
              "      <td>0</td>\n",
              "      <td>13</td>\n",
              "      <td>2015</td>\n",
              "      <td>July</td>\n",
              "      <td>27</td>\n",
              "      <td>1</td>\n",
              "      <td>0</td>\n",
              "      <td>1</td>\n",
              "      <td>1</td>\n",
              "      <td>0.0</td>\n",
              "      <td>...</td>\n",
              "      <td>0.0</td>\n",
              "      <td>0.0</td>\n",
              "      <td>0.0</td>\n",
              "      <td>0.0</td>\n",
              "      <td>0.0</td>\n",
              "      <td>0.0</td>\n",
              "      <td>0</td>\n",
              "      <td>1</td>\n",
              "      <td>2.564949</td>\n",
              "      <td>0.020668</td>\n",
              "    </tr>\n",
              "    <tr>\n",
              "      <th>4</th>\n",
              "      <td>0</td>\n",
              "      <td>14</td>\n",
              "      <td>2015</td>\n",
              "      <td>July</td>\n",
              "      <td>27</td>\n",
              "      <td>1</td>\n",
              "      <td>0</td>\n",
              "      <td>2</td>\n",
              "      <td>2</td>\n",
              "      <td>0.0</td>\n",
              "      <td>...</td>\n",
              "      <td>0.0</td>\n",
              "      <td>0.0</td>\n",
              "      <td>0.0</td>\n",
              "      <td>0.0</td>\n",
              "      <td>0.0</td>\n",
              "      <td>0.0</td>\n",
              "      <td>0</td>\n",
              "      <td>1</td>\n",
              "      <td>2.639057</td>\n",
              "      <td>0.022258</td>\n",
              "    </tr>\n",
              "    <tr>\n",
              "      <th>5</th>\n",
              "      <td>0</td>\n",
              "      <td>14</td>\n",
              "      <td>2015</td>\n",
              "      <td>July</td>\n",
              "      <td>27</td>\n",
              "      <td>1</td>\n",
              "      <td>0</td>\n",
              "      <td>2</td>\n",
              "      <td>2</td>\n",
              "      <td>0.0</td>\n",
              "      <td>...</td>\n",
              "      <td>0.0</td>\n",
              "      <td>0.0</td>\n",
              "      <td>0.0</td>\n",
              "      <td>0.0</td>\n",
              "      <td>0.0</td>\n",
              "      <td>0.0</td>\n",
              "      <td>0</td>\n",
              "      <td>1</td>\n",
              "      <td>2.639057</td>\n",
              "      <td>0.022258</td>\n",
              "    </tr>\n",
              "  </tbody>\n",
              "</table>\n",
              "<p>5 rows × 49 columns</p>\n",
              "</div>"
            ],
            "text/plain": [
              "   is_canceled  lead_time  arrival_date_year arrival_date_month  \\\n",
              "0            0        342               2015               July   \n",
              "2            0          7               2015               July   \n",
              "3            0         13               2015               July   \n",
              "4            0         14               2015               July   \n",
              "5            0         14               2015               July   \n",
              "\n",
              "   arrival_date_week_number  arrival_date_day_of_month  \\\n",
              "0                        27                          1   \n",
              "2                        27                          1   \n",
              "3                        27                          1   \n",
              "4                        27                          1   \n",
              "5                        27                          1   \n",
              "\n",
              "   stays_in_weekend_nights  stays_in_week_nights  adults  children  ...  June  \\\n",
              "0                        0                     0       2       0.0  ...   0.0   \n",
              "2                        0                     1       1       0.0  ...   0.0   \n",
              "3                        0                     1       1       0.0  ...   0.0   \n",
              "4                        0                     2       2       0.0  ...   0.0   \n",
              "5                        0                     2       2       0.0  ...   0.0   \n",
              "\n",
              "  March  May November October  September  City  Resort log_lead_time  \\\n",
              "0   0.0  0.0      0.0     0.0        0.0     0       1      5.834811   \n",
              "2   0.0  0.0      0.0     0.0        0.0     0       1      1.945910   \n",
              "3   0.0  0.0      0.0     0.0        0.0     0       1      2.564949   \n",
              "4   0.0  0.0      0.0     0.0        0.0     0       1      2.639057   \n",
              "5   0.0  0.0      0.0     0.0        0.0     0       1      2.639057   \n",
              "\n",
              "  lead_time_norm  \n",
              "0       0.543720  \n",
              "2       0.011129  \n",
              "3       0.020668  \n",
              "4       0.022258  \n",
              "5       0.022258  \n",
              "\n",
              "[5 rows x 49 columns]"
            ]
          },
          "execution_count": 47,
          "metadata": {},
          "output_type": "execute_result"
        }
      ],
      "source": [
        "hotels_df.head()"
      ]
    },
    {
      "cell_type": "code",
      "execution_count": 48,
      "id": "30cdbb16",
      "metadata": {},
      "outputs": [],
      "source": [
        "columns_to_select = [\n",
        "    'April', 'August', 'December', 'February', 'January', 'July', 'June', 'March', 'May',\n",
        "    'November', 'October', 'September',  \n",
        "    'required_car_parking_spaces',  \n",
        "    'total_of_special_requests', \n",
        "    'is_canceled',  \n",
        "    'is_reserved_compatible', \n",
        "    'cancelations_proportion',  \n",
        "    'lead_time', \n",
        "    'City', 'Resort',\n",
        "    'market_segment','distribution_channel',\n",
        "    'customer_type','arrival_date_month'\n",
        "]\n",
        "\n",
        "\n",
        "hotels_df = hotels_df[columns_to_select]"
      ]
    },
    {
      "cell_type": "markdown",
      "id": "b469a0e1",
      "metadata": {},
      "source": [
        "### Zastosowanie target encoding dla miesięcy"
      ]
    },
    {
      "cell_type": "code",
      "execution_count": 49,
      "id": "fe228839",
      "metadata": {},
      "outputs": [],
      "source": [
        "target_means4 = hotels_df.groupby('arrival_date_month')['is_canceled'].mean()\n",
        "hotels_df['month_encoded'] = hotels_df['arrival_date_month'].map(target_means4)"
      ]
    },
    {
      "cell_type": "code",
      "execution_count": 50,
      "id": "f75c4f4d",
      "metadata": {},
      "outputs": [
        {
          "data": {
            "text/html": [
              "<div>\n",
              "<style scoped>\n",
              "    .dataframe tbody tr th:only-of-type {\n",
              "        vertical-align: middle;\n",
              "    }\n",
              "\n",
              "    .dataframe tbody tr th {\n",
              "        vertical-align: top;\n",
              "    }\n",
              "\n",
              "    .dataframe thead th {\n",
              "        text-align: right;\n",
              "    }\n",
              "</style>\n",
              "<table border=\"1\" class=\"dataframe\">\n",
              "  <thead>\n",
              "    <tr style=\"text-align: right;\">\n",
              "      <th></th>\n",
              "      <th>April</th>\n",
              "      <th>August</th>\n",
              "      <th>December</th>\n",
              "      <th>February</th>\n",
              "      <th>January</th>\n",
              "      <th>July</th>\n",
              "      <th>June</th>\n",
              "      <th>March</th>\n",
              "      <th>May</th>\n",
              "      <th>November</th>\n",
              "      <th>...</th>\n",
              "      <th>is_reserved_compatible</th>\n",
              "      <th>cancelations_proportion</th>\n",
              "      <th>lead_time</th>\n",
              "      <th>City</th>\n",
              "      <th>Resort</th>\n",
              "      <th>market_segment</th>\n",
              "      <th>distribution_channel</th>\n",
              "      <th>customer_type</th>\n",
              "      <th>arrival_date_month</th>\n",
              "      <th>month_encoded</th>\n",
              "    </tr>\n",
              "  </thead>\n",
              "  <tbody>\n",
              "    <tr>\n",
              "      <th>0</th>\n",
              "      <td>0.0</td>\n",
              "      <td>0.0</td>\n",
              "      <td>0.0</td>\n",
              "      <td>0.0</td>\n",
              "      <td>0.0</td>\n",
              "      <td>1.0</td>\n",
              "      <td>0.0</td>\n",
              "      <td>0.0</td>\n",
              "      <td>0.0</td>\n",
              "      <td>0.0</td>\n",
              "      <td>...</td>\n",
              "      <td>1</td>\n",
              "      <td>0.5</td>\n",
              "      <td>342</td>\n",
              "      <td>0</td>\n",
              "      <td>1</td>\n",
              "      <td>Direct</td>\n",
              "      <td>Direct</td>\n",
              "      <td>Transient</td>\n",
              "      <td>July</td>\n",
              "      <td>0.374566</td>\n",
              "    </tr>\n",
              "    <tr>\n",
              "      <th>2</th>\n",
              "      <td>0.0</td>\n",
              "      <td>0.0</td>\n",
              "      <td>0.0</td>\n",
              "      <td>0.0</td>\n",
              "      <td>0.0</td>\n",
              "      <td>1.0</td>\n",
              "      <td>0.0</td>\n",
              "      <td>0.0</td>\n",
              "      <td>0.0</td>\n",
              "      <td>0.0</td>\n",
              "      <td>...</td>\n",
              "      <td>0</td>\n",
              "      <td>0.5</td>\n",
              "      <td>7</td>\n",
              "      <td>0</td>\n",
              "      <td>1</td>\n",
              "      <td>Direct</td>\n",
              "      <td>Direct</td>\n",
              "      <td>Transient</td>\n",
              "      <td>July</td>\n",
              "      <td>0.374566</td>\n",
              "    </tr>\n",
              "    <tr>\n",
              "      <th>3</th>\n",
              "      <td>0.0</td>\n",
              "      <td>0.0</td>\n",
              "      <td>0.0</td>\n",
              "      <td>0.0</td>\n",
              "      <td>0.0</td>\n",
              "      <td>1.0</td>\n",
              "      <td>0.0</td>\n",
              "      <td>0.0</td>\n",
              "      <td>0.0</td>\n",
              "      <td>0.0</td>\n",
              "      <td>...</td>\n",
              "      <td>1</td>\n",
              "      <td>0.5</td>\n",
              "      <td>13</td>\n",
              "      <td>0</td>\n",
              "      <td>1</td>\n",
              "      <td>Corporate</td>\n",
              "      <td>Corporate</td>\n",
              "      <td>Transient</td>\n",
              "      <td>July</td>\n",
              "      <td>0.374566</td>\n",
              "    </tr>\n",
              "    <tr>\n",
              "      <th>4</th>\n",
              "      <td>0.0</td>\n",
              "      <td>0.0</td>\n",
              "      <td>0.0</td>\n",
              "      <td>0.0</td>\n",
              "      <td>0.0</td>\n",
              "      <td>1.0</td>\n",
              "      <td>0.0</td>\n",
              "      <td>0.0</td>\n",
              "      <td>0.0</td>\n",
              "      <td>0.0</td>\n",
              "      <td>...</td>\n",
              "      <td>1</td>\n",
              "      <td>0.5</td>\n",
              "      <td>14</td>\n",
              "      <td>0</td>\n",
              "      <td>1</td>\n",
              "      <td>Online TA</td>\n",
              "      <td>TA/TO</td>\n",
              "      <td>Transient</td>\n",
              "      <td>July</td>\n",
              "      <td>0.374566</td>\n",
              "    </tr>\n",
              "    <tr>\n",
              "      <th>5</th>\n",
              "      <td>0.0</td>\n",
              "      <td>0.0</td>\n",
              "      <td>0.0</td>\n",
              "      <td>0.0</td>\n",
              "      <td>0.0</td>\n",
              "      <td>1.0</td>\n",
              "      <td>0.0</td>\n",
              "      <td>0.0</td>\n",
              "      <td>0.0</td>\n",
              "      <td>0.0</td>\n",
              "      <td>...</td>\n",
              "      <td>1</td>\n",
              "      <td>0.5</td>\n",
              "      <td>14</td>\n",
              "      <td>0</td>\n",
              "      <td>1</td>\n",
              "      <td>Online TA</td>\n",
              "      <td>TA/TO</td>\n",
              "      <td>Transient</td>\n",
              "      <td>July</td>\n",
              "      <td>0.374566</td>\n",
              "    </tr>\n",
              "  </tbody>\n",
              "</table>\n",
              "<p>5 rows × 25 columns</p>\n",
              "</div>"
            ],
            "text/plain": [
              "   April  August  December  February  January  July  June  March  May  \\\n",
              "0    0.0     0.0       0.0       0.0      0.0   1.0   0.0    0.0  0.0   \n",
              "2    0.0     0.0       0.0       0.0      0.0   1.0   0.0    0.0  0.0   \n",
              "3    0.0     0.0       0.0       0.0      0.0   1.0   0.0    0.0  0.0   \n",
              "4    0.0     0.0       0.0       0.0      0.0   1.0   0.0    0.0  0.0   \n",
              "5    0.0     0.0       0.0       0.0      0.0   1.0   0.0    0.0  0.0   \n",
              "\n",
              "   November  ...  is_reserved_compatible  cancelations_proportion  lead_time  \\\n",
              "0       0.0  ...                       1                      0.5        342   \n",
              "2       0.0  ...                       0                      0.5          7   \n",
              "3       0.0  ...                       1                      0.5         13   \n",
              "4       0.0  ...                       1                      0.5         14   \n",
              "5       0.0  ...                       1                      0.5         14   \n",
              "\n",
              "   City  Resort  market_segment  distribution_channel  customer_type  \\\n",
              "0     0       1          Direct                Direct      Transient   \n",
              "2     0       1          Direct                Direct      Transient   \n",
              "3     0       1       Corporate             Corporate      Transient   \n",
              "4     0       1       Online TA                 TA/TO      Transient   \n",
              "5     0       1       Online TA                 TA/TO      Transient   \n",
              "\n",
              "   arrival_date_month  month_encoded  \n",
              "0                July       0.374566  \n",
              "2                July       0.374566  \n",
              "3                July       0.374566  \n",
              "4                July       0.374566  \n",
              "5                July       0.374566  \n",
              "\n",
              "[5 rows x 25 columns]"
            ]
          },
          "execution_count": 50,
          "metadata": {},
          "output_type": "execute_result"
        }
      ],
      "source": [
        "hotels_df.head()"
      ]
    },
    {
      "cell_type": "code",
      "execution_count": 51,
      "id": "6bc41df1",
      "metadata": {},
      "outputs": [],
      "source": [
        "hotels_df.drop_duplicates(inplace=True)"
      ]
    },
    {
      "cell_type": "code",
      "execution_count": 52,
      "id": "5fdaf0c1",
      "metadata": {},
      "outputs": [
        {
          "data": {
            "text/html": [
              "<div>\n",
              "<style scoped>\n",
              "    .dataframe tbody tr th:only-of-type {\n",
              "        vertical-align: middle;\n",
              "    }\n",
              "\n",
              "    .dataframe tbody tr th {\n",
              "        vertical-align: top;\n",
              "    }\n",
              "\n",
              "    .dataframe thead th {\n",
              "        text-align: right;\n",
              "    }\n",
              "</style>\n",
              "<table border=\"1\" class=\"dataframe\">\n",
              "  <thead>\n",
              "    <tr style=\"text-align: right;\">\n",
              "      <th></th>\n",
              "      <th>April</th>\n",
              "      <th>August</th>\n",
              "      <th>December</th>\n",
              "      <th>February</th>\n",
              "      <th>January</th>\n",
              "      <th>July</th>\n",
              "      <th>June</th>\n",
              "      <th>March</th>\n",
              "      <th>May</th>\n",
              "      <th>November</th>\n",
              "      <th>...</th>\n",
              "      <th>is_reserved_compatible</th>\n",
              "      <th>cancelations_proportion</th>\n",
              "      <th>lead_time</th>\n",
              "      <th>City</th>\n",
              "      <th>Resort</th>\n",
              "      <th>market_segment</th>\n",
              "      <th>distribution_channel</th>\n",
              "      <th>customer_type</th>\n",
              "      <th>arrival_date_month</th>\n",
              "      <th>month_encoded</th>\n",
              "    </tr>\n",
              "  </thead>\n",
              "  <tbody>\n",
              "    <tr>\n",
              "      <th>0</th>\n",
              "      <td>0.0</td>\n",
              "      <td>0.0</td>\n",
              "      <td>0.0</td>\n",
              "      <td>0.0</td>\n",
              "      <td>0.0</td>\n",
              "      <td>1.0</td>\n",
              "      <td>0.0</td>\n",
              "      <td>0.0</td>\n",
              "      <td>0.0</td>\n",
              "      <td>0.0</td>\n",
              "      <td>...</td>\n",
              "      <td>1</td>\n",
              "      <td>0.5</td>\n",
              "      <td>342</td>\n",
              "      <td>0</td>\n",
              "      <td>1</td>\n",
              "      <td>Direct</td>\n",
              "      <td>Direct</td>\n",
              "      <td>Transient</td>\n",
              "      <td>July</td>\n",
              "      <td>0.374566</td>\n",
              "    </tr>\n",
              "    <tr>\n",
              "      <th>2</th>\n",
              "      <td>0.0</td>\n",
              "      <td>0.0</td>\n",
              "      <td>0.0</td>\n",
              "      <td>0.0</td>\n",
              "      <td>0.0</td>\n",
              "      <td>1.0</td>\n",
              "      <td>0.0</td>\n",
              "      <td>0.0</td>\n",
              "      <td>0.0</td>\n",
              "      <td>0.0</td>\n",
              "      <td>...</td>\n",
              "      <td>0</td>\n",
              "      <td>0.5</td>\n",
              "      <td>7</td>\n",
              "      <td>0</td>\n",
              "      <td>1</td>\n",
              "      <td>Direct</td>\n",
              "      <td>Direct</td>\n",
              "      <td>Transient</td>\n",
              "      <td>July</td>\n",
              "      <td>0.374566</td>\n",
              "    </tr>\n",
              "    <tr>\n",
              "      <th>3</th>\n",
              "      <td>0.0</td>\n",
              "      <td>0.0</td>\n",
              "      <td>0.0</td>\n",
              "      <td>0.0</td>\n",
              "      <td>0.0</td>\n",
              "      <td>1.0</td>\n",
              "      <td>0.0</td>\n",
              "      <td>0.0</td>\n",
              "      <td>0.0</td>\n",
              "      <td>0.0</td>\n",
              "      <td>...</td>\n",
              "      <td>1</td>\n",
              "      <td>0.5</td>\n",
              "      <td>13</td>\n",
              "      <td>0</td>\n",
              "      <td>1</td>\n",
              "      <td>Corporate</td>\n",
              "      <td>Corporate</td>\n",
              "      <td>Transient</td>\n",
              "      <td>July</td>\n",
              "      <td>0.374566</td>\n",
              "    </tr>\n",
              "    <tr>\n",
              "      <th>4</th>\n",
              "      <td>0.0</td>\n",
              "      <td>0.0</td>\n",
              "      <td>0.0</td>\n",
              "      <td>0.0</td>\n",
              "      <td>0.0</td>\n",
              "      <td>1.0</td>\n",
              "      <td>0.0</td>\n",
              "      <td>0.0</td>\n",
              "      <td>0.0</td>\n",
              "      <td>0.0</td>\n",
              "      <td>...</td>\n",
              "      <td>1</td>\n",
              "      <td>0.5</td>\n",
              "      <td>14</td>\n",
              "      <td>0</td>\n",
              "      <td>1</td>\n",
              "      <td>Online TA</td>\n",
              "      <td>TA/TO</td>\n",
              "      <td>Transient</td>\n",
              "      <td>July</td>\n",
              "      <td>0.374566</td>\n",
              "    </tr>\n",
              "    <tr>\n",
              "      <th>6</th>\n",
              "      <td>0.0</td>\n",
              "      <td>0.0</td>\n",
              "      <td>0.0</td>\n",
              "      <td>0.0</td>\n",
              "      <td>0.0</td>\n",
              "      <td>1.0</td>\n",
              "      <td>0.0</td>\n",
              "      <td>0.0</td>\n",
              "      <td>0.0</td>\n",
              "      <td>0.0</td>\n",
              "      <td>...</td>\n",
              "      <td>1</td>\n",
              "      <td>0.5</td>\n",
              "      <td>0</td>\n",
              "      <td>0</td>\n",
              "      <td>1</td>\n",
              "      <td>Direct</td>\n",
              "      <td>Direct</td>\n",
              "      <td>Transient</td>\n",
              "      <td>July</td>\n",
              "      <td>0.374566</td>\n",
              "    </tr>\n",
              "  </tbody>\n",
              "</table>\n",
              "<p>5 rows × 25 columns</p>\n",
              "</div>"
            ],
            "text/plain": [
              "   April  August  December  February  January  July  June  March  May  \\\n",
              "0    0.0     0.0       0.0       0.0      0.0   1.0   0.0    0.0  0.0   \n",
              "2    0.0     0.0       0.0       0.0      0.0   1.0   0.0    0.0  0.0   \n",
              "3    0.0     0.0       0.0       0.0      0.0   1.0   0.0    0.0  0.0   \n",
              "4    0.0     0.0       0.0       0.0      0.0   1.0   0.0    0.0  0.0   \n",
              "6    0.0     0.0       0.0       0.0      0.0   1.0   0.0    0.0  0.0   \n",
              "\n",
              "   November  ...  is_reserved_compatible  cancelations_proportion  lead_time  \\\n",
              "0       0.0  ...                       1                      0.5        342   \n",
              "2       0.0  ...                       0                      0.5          7   \n",
              "3       0.0  ...                       1                      0.5         13   \n",
              "4       0.0  ...                       1                      0.5         14   \n",
              "6       0.0  ...                       1                      0.5          0   \n",
              "\n",
              "   City  Resort  market_segment  distribution_channel  customer_type  \\\n",
              "0     0       1          Direct                Direct      Transient   \n",
              "2     0       1          Direct                Direct      Transient   \n",
              "3     0       1       Corporate             Corporate      Transient   \n",
              "4     0       1       Online TA                 TA/TO      Transient   \n",
              "6     0       1          Direct                Direct      Transient   \n",
              "\n",
              "   arrival_date_month  month_encoded  \n",
              "0                July       0.374566  \n",
              "2                July       0.374566  \n",
              "3                July       0.374566  \n",
              "4                July       0.374566  \n",
              "6                July       0.374566  \n",
              "\n",
              "[5 rows x 25 columns]"
            ]
          },
          "execution_count": 52,
          "metadata": {},
          "output_type": "execute_result"
        }
      ],
      "source": [
        "hotels_df.head()"
      ]
    },
    {
      "cell_type": "markdown",
      "id": "af644eb1",
      "metadata": {},
      "source": [
        "#### Target encoding i one hot dla kolumn nominalnych"
      ]
    },
    {
      "cell_type": "code",
      "execution_count": 53,
      "id": "46e70fb7",
      "metadata": {},
      "outputs": [
        {
          "data": {
            "text/plain": [
              "market_segment\n",
              "Online TA        26119\n",
              "Offline TA/TO     9373\n",
              "Direct            7436\n",
              "Corporate         2795\n",
              "Groups            2454\n",
              "Complementary      614\n",
              "Aviation           141\n",
              "Undefined            2\n",
              "Name: count, dtype: int64"
            ]
          },
          "execution_count": 53,
          "metadata": {},
          "output_type": "execute_result"
        }
      ],
      "source": [
        "hotels_df['market_segment'].value_counts()"
      ]
    },
    {
      "cell_type": "code",
      "execution_count": null,
      "id": "e85c35e4",
      "metadata": {},
      "outputs": [],
      "source": [
        "hotels_df = hotels_df.replace(\"Undefined\", np.nan)\n",
        "hotels_df = hotels_df.dropna()"
      ]
    },
    {
      "cell_type": "code",
      "execution_count": 55,
      "id": "8e1b7b33",
      "metadata": {},
      "outputs": [
        {
          "data": {
            "text/html": [
              "<div>\n",
              "<style scoped>\n",
              "    .dataframe tbody tr th:only-of-type {\n",
              "        vertical-align: middle;\n",
              "    }\n",
              "\n",
              "    .dataframe tbody tr th {\n",
              "        vertical-align: top;\n",
              "    }\n",
              "\n",
              "    .dataframe thead th {\n",
              "        text-align: right;\n",
              "    }\n",
              "</style>\n",
              "<table border=\"1\" class=\"dataframe\">\n",
              "  <thead>\n",
              "    <tr style=\"text-align: right;\">\n",
              "      <th></th>\n",
              "      <th>index</th>\n",
              "      <th>April</th>\n",
              "      <th>August</th>\n",
              "      <th>December</th>\n",
              "      <th>February</th>\n",
              "      <th>January</th>\n",
              "      <th>July</th>\n",
              "      <th>June</th>\n",
              "      <th>March</th>\n",
              "      <th>May</th>\n",
              "      <th>...</th>\n",
              "      <th>cancelations_proportion</th>\n",
              "      <th>lead_time</th>\n",
              "      <th>City</th>\n",
              "      <th>Resort</th>\n",
              "      <th>market_segment</th>\n",
              "      <th>distribution_channel</th>\n",
              "      <th>customer_type</th>\n",
              "      <th>arrival_date_month</th>\n",
              "      <th>month_encoded</th>\n",
              "      <th>market_encoded</th>\n",
              "    </tr>\n",
              "  </thead>\n",
              "  <tbody>\n",
              "    <tr>\n",
              "      <th>0</th>\n",
              "      <td>0</td>\n",
              "      <td>0.0</td>\n",
              "      <td>0.0</td>\n",
              "      <td>0.0</td>\n",
              "      <td>0.0</td>\n",
              "      <td>0.0</td>\n",
              "      <td>1.0</td>\n",
              "      <td>0.0</td>\n",
              "      <td>0.0</td>\n",
              "      <td>0.0</td>\n",
              "      <td>...</td>\n",
              "      <td>0.5</td>\n",
              "      <td>342</td>\n",
              "      <td>0</td>\n",
              "      <td>1</td>\n",
              "      <td>Direct</td>\n",
              "      <td>Direct</td>\n",
              "      <td>Transient</td>\n",
              "      <td>July</td>\n",
              "      <td>0.374566</td>\n",
              "      <td>0.188593</td>\n",
              "    </tr>\n",
              "    <tr>\n",
              "      <th>1</th>\n",
              "      <td>2</td>\n",
              "      <td>0.0</td>\n",
              "      <td>0.0</td>\n",
              "      <td>0.0</td>\n",
              "      <td>0.0</td>\n",
              "      <td>0.0</td>\n",
              "      <td>1.0</td>\n",
              "      <td>0.0</td>\n",
              "      <td>0.0</td>\n",
              "      <td>0.0</td>\n",
              "      <td>...</td>\n",
              "      <td>0.5</td>\n",
              "      <td>7</td>\n",
              "      <td>0</td>\n",
              "      <td>1</td>\n",
              "      <td>Direct</td>\n",
              "      <td>Direct</td>\n",
              "      <td>Transient</td>\n",
              "      <td>July</td>\n",
              "      <td>0.374566</td>\n",
              "      <td>0.188593</td>\n",
              "    </tr>\n",
              "    <tr>\n",
              "      <th>2</th>\n",
              "      <td>3</td>\n",
              "      <td>0.0</td>\n",
              "      <td>0.0</td>\n",
              "      <td>0.0</td>\n",
              "      <td>0.0</td>\n",
              "      <td>0.0</td>\n",
              "      <td>1.0</td>\n",
              "      <td>0.0</td>\n",
              "      <td>0.0</td>\n",
              "      <td>0.0</td>\n",
              "      <td>...</td>\n",
              "      <td>0.5</td>\n",
              "      <td>13</td>\n",
              "      <td>0</td>\n",
              "      <td>1</td>\n",
              "      <td>Corporate</td>\n",
              "      <td>Corporate</td>\n",
              "      <td>Transient</td>\n",
              "      <td>July</td>\n",
              "      <td>0.374566</td>\n",
              "      <td>0.148479</td>\n",
              "    </tr>\n",
              "    <tr>\n",
              "      <th>3</th>\n",
              "      <td>4</td>\n",
              "      <td>0.0</td>\n",
              "      <td>0.0</td>\n",
              "      <td>0.0</td>\n",
              "      <td>0.0</td>\n",
              "      <td>0.0</td>\n",
              "      <td>1.0</td>\n",
              "      <td>0.0</td>\n",
              "      <td>0.0</td>\n",
              "      <td>0.0</td>\n",
              "      <td>...</td>\n",
              "      <td>0.5</td>\n",
              "      <td>14</td>\n",
              "      <td>0</td>\n",
              "      <td>1</td>\n",
              "      <td>Online TA</td>\n",
              "      <td>TA/TO</td>\n",
              "      <td>Transient</td>\n",
              "      <td>July</td>\n",
              "      <td>0.374566</td>\n",
              "      <td>0.352171</td>\n",
              "    </tr>\n",
              "    <tr>\n",
              "      <th>4</th>\n",
              "      <td>6</td>\n",
              "      <td>0.0</td>\n",
              "      <td>0.0</td>\n",
              "      <td>0.0</td>\n",
              "      <td>0.0</td>\n",
              "      <td>0.0</td>\n",
              "      <td>1.0</td>\n",
              "      <td>0.0</td>\n",
              "      <td>0.0</td>\n",
              "      <td>0.0</td>\n",
              "      <td>...</td>\n",
              "      <td>0.5</td>\n",
              "      <td>0</td>\n",
              "      <td>0</td>\n",
              "      <td>1</td>\n",
              "      <td>Direct</td>\n",
              "      <td>Direct</td>\n",
              "      <td>Transient</td>\n",
              "      <td>July</td>\n",
              "      <td>0.374566</td>\n",
              "      <td>0.188593</td>\n",
              "    </tr>\n",
              "    <tr>\n",
              "      <th>...</th>\n",
              "      <td>...</td>\n",
              "      <td>...</td>\n",
              "      <td>...</td>\n",
              "      <td>...</td>\n",
              "      <td>...</td>\n",
              "      <td>...</td>\n",
              "      <td>...</td>\n",
              "      <td>...</td>\n",
              "      <td>...</td>\n",
              "      <td>...</td>\n",
              "      <td>...</td>\n",
              "      <td>...</td>\n",
              "      <td>...</td>\n",
              "      <td>...</td>\n",
              "      <td>...</td>\n",
              "      <td>...</td>\n",
              "      <td>...</td>\n",
              "      <td>...</td>\n",
              "      <td>...</td>\n",
              "      <td>...</td>\n",
              "      <td>...</td>\n",
              "    </tr>\n",
              "    <tr>\n",
              "      <th>48924</th>\n",
              "      <td>119378</td>\n",
              "      <td>0.0</td>\n",
              "      <td>1.0</td>\n",
              "      <td>0.0</td>\n",
              "      <td>0.0</td>\n",
              "      <td>0.0</td>\n",
              "      <td>0.0</td>\n",
              "      <td>0.0</td>\n",
              "      <td>0.0</td>\n",
              "      <td>0.0</td>\n",
              "      <td>...</td>\n",
              "      <td>0.5</td>\n",
              "      <td>247</td>\n",
              "      <td>1</td>\n",
              "      <td>0</td>\n",
              "      <td>Offline TA/TO</td>\n",
              "      <td>TA/TO</td>\n",
              "      <td>Transient</td>\n",
              "      <td>August</td>\n",
              "      <td>0.377531</td>\n",
              "      <td>0.180625</td>\n",
              "    </tr>\n",
              "    <tr>\n",
              "      <th>48925</th>\n",
              "      <td>119384</td>\n",
              "      <td>0.0</td>\n",
              "      <td>1.0</td>\n",
              "      <td>0.0</td>\n",
              "      <td>0.0</td>\n",
              "      <td>0.0</td>\n",
              "      <td>0.0</td>\n",
              "      <td>0.0</td>\n",
              "      <td>0.0</td>\n",
              "      <td>0.0</td>\n",
              "      <td>...</td>\n",
              "      <td>0.5</td>\n",
              "      <td>21</td>\n",
              "      <td>1</td>\n",
              "      <td>0</td>\n",
              "      <td>Offline TA/TO</td>\n",
              "      <td>TA/TO</td>\n",
              "      <td>Transient</td>\n",
              "      <td>August</td>\n",
              "      <td>0.377531</td>\n",
              "      <td>0.180625</td>\n",
              "    </tr>\n",
              "    <tr>\n",
              "      <th>48926</th>\n",
              "      <td>119385</td>\n",
              "      <td>0.0</td>\n",
              "      <td>1.0</td>\n",
              "      <td>0.0</td>\n",
              "      <td>0.0</td>\n",
              "      <td>0.0</td>\n",
              "      <td>0.0</td>\n",
              "      <td>0.0</td>\n",
              "      <td>0.0</td>\n",
              "      <td>0.0</td>\n",
              "      <td>...</td>\n",
              "      <td>0.5</td>\n",
              "      <td>23</td>\n",
              "      <td>1</td>\n",
              "      <td>0</td>\n",
              "      <td>Offline TA/TO</td>\n",
              "      <td>TA/TO</td>\n",
              "      <td>Transient</td>\n",
              "      <td>August</td>\n",
              "      <td>0.377531</td>\n",
              "      <td>0.180625</td>\n",
              "    </tr>\n",
              "    <tr>\n",
              "      <th>48927</th>\n",
              "      <td>119387</td>\n",
              "      <td>0.0</td>\n",
              "      <td>1.0</td>\n",
              "      <td>0.0</td>\n",
              "      <td>0.0</td>\n",
              "      <td>0.0</td>\n",
              "      <td>0.0</td>\n",
              "      <td>0.0</td>\n",
              "      <td>0.0</td>\n",
              "      <td>0.0</td>\n",
              "      <td>...</td>\n",
              "      <td>0.5</td>\n",
              "      <td>34</td>\n",
              "      <td>1</td>\n",
              "      <td>0</td>\n",
              "      <td>Online TA</td>\n",
              "      <td>TA/TO</td>\n",
              "      <td>Transient</td>\n",
              "      <td>August</td>\n",
              "      <td>0.377531</td>\n",
              "      <td>0.352171</td>\n",
              "    </tr>\n",
              "    <tr>\n",
              "      <th>48928</th>\n",
              "      <td>119388</td>\n",
              "      <td>0.0</td>\n",
              "      <td>1.0</td>\n",
              "      <td>0.0</td>\n",
              "      <td>0.0</td>\n",
              "      <td>0.0</td>\n",
              "      <td>0.0</td>\n",
              "      <td>0.0</td>\n",
              "      <td>0.0</td>\n",
              "      <td>0.0</td>\n",
              "      <td>...</td>\n",
              "      <td>0.5</td>\n",
              "      <td>109</td>\n",
              "      <td>1</td>\n",
              "      <td>0</td>\n",
              "      <td>Online TA</td>\n",
              "      <td>TA/TO</td>\n",
              "      <td>Transient</td>\n",
              "      <td>August</td>\n",
              "      <td>0.377531</td>\n",
              "      <td>0.352171</td>\n",
              "    </tr>\n",
              "  </tbody>\n",
              "</table>\n",
              "<p>48929 rows × 27 columns</p>\n",
              "</div>"
            ],
            "text/plain": [
              "        index  April  August  December  February  January  July  June  March  \\\n",
              "0           0    0.0     0.0       0.0       0.0      0.0   1.0   0.0    0.0   \n",
              "1           2    0.0     0.0       0.0       0.0      0.0   1.0   0.0    0.0   \n",
              "2           3    0.0     0.0       0.0       0.0      0.0   1.0   0.0    0.0   \n",
              "3           4    0.0     0.0       0.0       0.0      0.0   1.0   0.0    0.0   \n",
              "4           6    0.0     0.0       0.0       0.0      0.0   1.0   0.0    0.0   \n",
              "...       ...    ...     ...       ...       ...      ...   ...   ...    ...   \n",
              "48924  119378    0.0     1.0       0.0       0.0      0.0   0.0   0.0    0.0   \n",
              "48925  119384    0.0     1.0       0.0       0.0      0.0   0.0   0.0    0.0   \n",
              "48926  119385    0.0     1.0       0.0       0.0      0.0   0.0   0.0    0.0   \n",
              "48927  119387    0.0     1.0       0.0       0.0      0.0   0.0   0.0    0.0   \n",
              "48928  119388    0.0     1.0       0.0       0.0      0.0   0.0   0.0    0.0   \n",
              "\n",
              "       May  ...  cancelations_proportion  lead_time  City  Resort  \\\n",
              "0      0.0  ...                      0.5        342     0       1   \n",
              "1      0.0  ...                      0.5          7     0       1   \n",
              "2      0.0  ...                      0.5         13     0       1   \n",
              "3      0.0  ...                      0.5         14     0       1   \n",
              "4      0.0  ...                      0.5          0     0       1   \n",
              "...    ...  ...                      ...        ...   ...     ...   \n",
              "48924  0.0  ...                      0.5        247     1       0   \n",
              "48925  0.0  ...                      0.5         21     1       0   \n",
              "48926  0.0  ...                      0.5         23     1       0   \n",
              "48927  0.0  ...                      0.5         34     1       0   \n",
              "48928  0.0  ...                      0.5        109     1       0   \n",
              "\n",
              "       market_segment  distribution_channel  customer_type  \\\n",
              "0              Direct                Direct      Transient   \n",
              "1              Direct                Direct      Transient   \n",
              "2           Corporate             Corporate      Transient   \n",
              "3           Online TA                 TA/TO      Transient   \n",
              "4              Direct                Direct      Transient   \n",
              "...               ...                   ...            ...   \n",
              "48924   Offline TA/TO                 TA/TO      Transient   \n",
              "48925   Offline TA/TO                 TA/TO      Transient   \n",
              "48926   Offline TA/TO                 TA/TO      Transient   \n",
              "48927       Online TA                 TA/TO      Transient   \n",
              "48928       Online TA                 TA/TO      Transient   \n",
              "\n",
              "       arrival_date_month  month_encoded  market_encoded  \n",
              "0                    July       0.374566        0.188593  \n",
              "1                    July       0.374566        0.188593  \n",
              "2                    July       0.374566        0.148479  \n",
              "3                    July       0.374566        0.352171  \n",
              "4                    July       0.374566        0.188593  \n",
              "...                   ...            ...             ...  \n",
              "48924              August       0.377531        0.180625  \n",
              "48925              August       0.377531        0.180625  \n",
              "48926              August       0.377531        0.180625  \n",
              "48927              August       0.377531        0.352171  \n",
              "48928              August       0.377531        0.352171  \n",
              "\n",
              "[48929 rows x 27 columns]"
            ]
          },
          "execution_count": 55,
          "metadata": {},
          "output_type": "execute_result"
        }
      ],
      "source": [
        "target_means = hotels_df.groupby('market_segment')['is_canceled'].mean()\n",
        "hotels_df['market_encoded'] = hotels_df['market_segment'].map(target_means)\n",
        "hotels_df.reset_index()"
      ]
    },
    {
      "cell_type": "code",
      "execution_count": null,
      "id": "e49b4068",
      "metadata": {},
      "outputs": [],
      "source": [
        "hotels_df = pd.get_dummies(hotels_df, columns=['market_segment'], drop_first=False)"
      ]
    },
    {
      "cell_type": "code",
      "execution_count": 57,
      "id": "32507e97",
      "metadata": {},
      "outputs": [
        {
          "name": "stderr",
          "output_type": "stream",
          "text": [
            "C:\\Users\\Admin\\AppData\\Local\\Temp\\ipykernel_8064\\2791903176.py:1: FutureWarning: Setting an item of incompatible dtype is deprecated and will raise in a future error of pandas. Value '0         0\n",
            "2         0\n",
            "3         0\n",
            "4         0\n",
            "6         0\n",
            "         ..\n",
            "119378    0\n",
            "119384    0\n",
            "119385    0\n",
            "119387    0\n",
            "119388    0\n",
            "Name: market_segment_Aviation, Length: 48929, dtype: int64' has dtype incompatible with bool, please explicitly cast to a compatible dtype first.\n",
            "  hotels_df.iloc[:, -7:] = hotels_df.iloc[:, -7:].astype(int)\n",
            "C:\\Users\\Admin\\AppData\\Local\\Temp\\ipykernel_8064\\2791903176.py:1: FutureWarning: Setting an item of incompatible dtype is deprecated and will raise in a future error of pandas. Value '0         0\n",
            "2         0\n",
            "3         0\n",
            "4         0\n",
            "6         0\n",
            "         ..\n",
            "119378    0\n",
            "119384    0\n",
            "119385    0\n",
            "119387    0\n",
            "119388    0\n",
            "Name: market_segment_Complementary, Length: 48929, dtype: int64' has dtype incompatible with bool, please explicitly cast to a compatible dtype first.\n",
            "  hotels_df.iloc[:, -7:] = hotels_df.iloc[:, -7:].astype(int)\n",
            "C:\\Users\\Admin\\AppData\\Local\\Temp\\ipykernel_8064\\2791903176.py:1: FutureWarning: Setting an item of incompatible dtype is deprecated and will raise in a future error of pandas. Value '0         0\n",
            "2         0\n",
            "3         1\n",
            "4         0\n",
            "6         0\n",
            "         ..\n",
            "119378    0\n",
            "119384    0\n",
            "119385    0\n",
            "119387    0\n",
            "119388    0\n",
            "Name: market_segment_Corporate, Length: 48929, dtype: int64' has dtype incompatible with bool, please explicitly cast to a compatible dtype first.\n",
            "  hotels_df.iloc[:, -7:] = hotels_df.iloc[:, -7:].astype(int)\n",
            "C:\\Users\\Admin\\AppData\\Local\\Temp\\ipykernel_8064\\2791903176.py:1: FutureWarning: Setting an item of incompatible dtype is deprecated and will raise in a future error of pandas. Value '0         1\n",
            "2         1\n",
            "3         0\n",
            "4         0\n",
            "6         1\n",
            "         ..\n",
            "119378    0\n",
            "119384    0\n",
            "119385    0\n",
            "119387    0\n",
            "119388    0\n",
            "Name: market_segment_Direct, Length: 48929, dtype: int64' has dtype incompatible with bool, please explicitly cast to a compatible dtype first.\n",
            "  hotels_df.iloc[:, -7:] = hotels_df.iloc[:, -7:].astype(int)\n",
            "C:\\Users\\Admin\\AppData\\Local\\Temp\\ipykernel_8064\\2791903176.py:1: FutureWarning: Setting an item of incompatible dtype is deprecated and will raise in a future error of pandas. Value '0         0\n",
            "2         0\n",
            "3         0\n",
            "4         0\n",
            "6         0\n",
            "         ..\n",
            "119378    0\n",
            "119384    0\n",
            "119385    0\n",
            "119387    0\n",
            "119388    0\n",
            "Name: market_segment_Groups, Length: 48929, dtype: int64' has dtype incompatible with bool, please explicitly cast to a compatible dtype first.\n",
            "  hotels_df.iloc[:, -7:] = hotels_df.iloc[:, -7:].astype(int)\n",
            "C:\\Users\\Admin\\AppData\\Local\\Temp\\ipykernel_8064\\2791903176.py:1: FutureWarning: Setting an item of incompatible dtype is deprecated and will raise in a future error of pandas. Value '0         0\n",
            "2         0\n",
            "3         0\n",
            "4         0\n",
            "6         0\n",
            "         ..\n",
            "119378    1\n",
            "119384    1\n",
            "119385    1\n",
            "119387    0\n",
            "119388    0\n",
            "Name: market_segment_Offline TA/TO, Length: 48929, dtype: int64' has dtype incompatible with bool, please explicitly cast to a compatible dtype first.\n",
            "  hotels_df.iloc[:, -7:] = hotels_df.iloc[:, -7:].astype(int)\n",
            "C:\\Users\\Admin\\AppData\\Local\\Temp\\ipykernel_8064\\2791903176.py:1: FutureWarning: Setting an item of incompatible dtype is deprecated and will raise in a future error of pandas. Value '0         0\n",
            "2         0\n",
            "3         0\n",
            "4         1\n",
            "6         0\n",
            "         ..\n",
            "119378    0\n",
            "119384    0\n",
            "119385    0\n",
            "119387    1\n",
            "119388    1\n",
            "Name: market_segment_Online TA, Length: 48929, dtype: int64' has dtype incompatible with bool, please explicitly cast to a compatible dtype first.\n",
            "  hotels_df.iloc[:, -7:] = hotels_df.iloc[:, -7:].astype(int)\n"
          ]
        }
      ],
      "source": [
        "hotels_df.iloc[:, -7:] = hotels_df.iloc[:, -7:].astype(int)"
      ]
    },
    {
      "cell_type": "markdown",
      "id": "dcb42b55",
      "metadata": {},
      "source": [
        "##### Distribution_channel:"
      ]
    },
    {
      "cell_type": "code",
      "execution_count": null,
      "id": "0ee3ed17",
      "metadata": {},
      "outputs": [],
      "source": [
        "target_means2 = hotels_df.groupby('distribution_channel')['is_canceled'].mean()\n",
        "hotels_df['distribution_encoded'] = hotels_df['distribution_channel'].map(target_means2)\n",
        "hotels_df.reset_index()\n",
        "hotels_df = pd.get_dummies(hotels_df, columns=['distribution_channel'], drop_first=False)"
      ]
    },
    {
      "cell_type": "code",
      "execution_count": 59,
      "id": "dcef462d",
      "metadata": {},
      "outputs": [
        {
          "name": "stderr",
          "output_type": "stream",
          "text": [
            "C:\\Users\\Admin\\AppData\\Local\\Temp\\ipykernel_8064\\3860881359.py:1: FutureWarning: Setting an item of incompatible dtype is deprecated and will raise in a future error of pandas. Value '0         0\n",
            "2         0\n",
            "3         1\n",
            "4         0\n",
            "6         0\n",
            "         ..\n",
            "119378    0\n",
            "119384    0\n",
            "119385    0\n",
            "119387    0\n",
            "119388    0\n",
            "Name: distribution_channel_Corporate, Length: 48929, dtype: int64' has dtype incompatible with bool, please explicitly cast to a compatible dtype first.\n",
            "  hotels_df.iloc[:, -4:] = hotels_df.iloc[:, -4:].astype(int)\n",
            "C:\\Users\\Admin\\AppData\\Local\\Temp\\ipykernel_8064\\3860881359.py:1: FutureWarning: Setting an item of incompatible dtype is deprecated and will raise in a future error of pandas. Value '0         1\n",
            "2         1\n",
            "3         0\n",
            "4         0\n",
            "6         1\n",
            "         ..\n",
            "119378    0\n",
            "119384    0\n",
            "119385    0\n",
            "119387    0\n",
            "119388    0\n",
            "Name: distribution_channel_Direct, Length: 48929, dtype: int64' has dtype incompatible with bool, please explicitly cast to a compatible dtype first.\n",
            "  hotels_df.iloc[:, -4:] = hotels_df.iloc[:, -4:].astype(int)\n",
            "C:\\Users\\Admin\\AppData\\Local\\Temp\\ipykernel_8064\\3860881359.py:1: FutureWarning: Setting an item of incompatible dtype is deprecated and will raise in a future error of pandas. Value '0         0\n",
            "2         0\n",
            "3         0\n",
            "4         0\n",
            "6         0\n",
            "         ..\n",
            "119378    0\n",
            "119384    0\n",
            "119385    0\n",
            "119387    0\n",
            "119388    0\n",
            "Name: distribution_channel_GDS, Length: 48929, dtype: int64' has dtype incompatible with bool, please explicitly cast to a compatible dtype first.\n",
            "  hotels_df.iloc[:, -4:] = hotels_df.iloc[:, -4:].astype(int)\n",
            "C:\\Users\\Admin\\AppData\\Local\\Temp\\ipykernel_8064\\3860881359.py:1: FutureWarning: Setting an item of incompatible dtype is deprecated and will raise in a future error of pandas. Value '0         0\n",
            "2         0\n",
            "3         0\n",
            "4         1\n",
            "6         0\n",
            "         ..\n",
            "119378    1\n",
            "119384    1\n",
            "119385    1\n",
            "119387    1\n",
            "119388    1\n",
            "Name: distribution_channel_TA/TO, Length: 48929, dtype: int64' has dtype incompatible with bool, please explicitly cast to a compatible dtype first.\n",
            "  hotels_df.iloc[:, -4:] = hotels_df.iloc[:, -4:].astype(int)\n"
          ]
        }
      ],
      "source": [
        "hotels_df.iloc[:, -4:] = hotels_df.iloc[:, -4:].astype(int)"
      ]
    },
    {
      "cell_type": "code",
      "execution_count": 60,
      "id": "4b8a1fe2",
      "metadata": {},
      "outputs": [
        {
          "data": {
            "text/html": [
              "<div>\n",
              "<style scoped>\n",
              "    .dataframe tbody tr th:only-of-type {\n",
              "        vertical-align: middle;\n",
              "    }\n",
              "\n",
              "    .dataframe tbody tr th {\n",
              "        vertical-align: top;\n",
              "    }\n",
              "\n",
              "    .dataframe thead th {\n",
              "        text-align: right;\n",
              "    }\n",
              "</style>\n",
              "<table border=\"1\" class=\"dataframe\">\n",
              "  <thead>\n",
              "    <tr style=\"text-align: right;\">\n",
              "      <th></th>\n",
              "      <th>April</th>\n",
              "      <th>August</th>\n",
              "      <th>December</th>\n",
              "      <th>February</th>\n",
              "      <th>January</th>\n",
              "      <th>July</th>\n",
              "      <th>June</th>\n",
              "      <th>March</th>\n",
              "      <th>May</th>\n",
              "      <th>November</th>\n",
              "      <th>...</th>\n",
              "      <th>distribution_encoded</th>\n",
              "      <th>distribution_channel_Corporate</th>\n",
              "      <th>distribution_channel_Direct</th>\n",
              "      <th>distribution_channel_GDS</th>\n",
              "      <th>distribution_channel_TA/TO</th>\n",
              "      <th>customer_encoded</th>\n",
              "      <th>customer_type_Contract</th>\n",
              "      <th>customer_type_Group</th>\n",
              "      <th>customer_type_Transient</th>\n",
              "      <th>customer_type_Transient-Party</th>\n",
              "    </tr>\n",
              "  </thead>\n",
              "  <tbody>\n",
              "    <tr>\n",
              "      <th>0</th>\n",
              "      <td>0.0</td>\n",
              "      <td>0.0</td>\n",
              "      <td>0.0</td>\n",
              "      <td>0.0</td>\n",
              "      <td>0.0</td>\n",
              "      <td>1.0</td>\n",
              "      <td>0.0</td>\n",
              "      <td>0.0</td>\n",
              "      <td>0.0</td>\n",
              "      <td>0.0</td>\n",
              "      <td>...</td>\n",
              "      <td>0.189265</td>\n",
              "      <td>0</td>\n",
              "      <td>1</td>\n",
              "      <td>0</td>\n",
              "      <td>0</td>\n",
              "      <td>0.304255</td>\n",
              "      <td>False</td>\n",
              "      <td>False</td>\n",
              "      <td>True</td>\n",
              "      <td>False</td>\n",
              "    </tr>\n",
              "    <tr>\n",
              "      <th>2</th>\n",
              "      <td>0.0</td>\n",
              "      <td>0.0</td>\n",
              "      <td>0.0</td>\n",
              "      <td>0.0</td>\n",
              "      <td>0.0</td>\n",
              "      <td>1.0</td>\n",
              "      <td>0.0</td>\n",
              "      <td>0.0</td>\n",
              "      <td>0.0</td>\n",
              "      <td>0.0</td>\n",
              "      <td>...</td>\n",
              "      <td>0.189265</td>\n",
              "      <td>0</td>\n",
              "      <td>1</td>\n",
              "      <td>0</td>\n",
              "      <td>0</td>\n",
              "      <td>0.304255</td>\n",
              "      <td>False</td>\n",
              "      <td>False</td>\n",
              "      <td>True</td>\n",
              "      <td>False</td>\n",
              "    </tr>\n",
              "    <tr>\n",
              "      <th>3</th>\n",
              "      <td>0.0</td>\n",
              "      <td>0.0</td>\n",
              "      <td>0.0</td>\n",
              "      <td>0.0</td>\n",
              "      <td>0.0</td>\n",
              "      <td>1.0</td>\n",
              "      <td>0.0</td>\n",
              "      <td>0.0</td>\n",
              "      <td>0.0</td>\n",
              "      <td>0.0</td>\n",
              "      <td>...</td>\n",
              "      <td>0.162289</td>\n",
              "      <td>1</td>\n",
              "      <td>0</td>\n",
              "      <td>0</td>\n",
              "      <td>0</td>\n",
              "      <td>0.304255</td>\n",
              "      <td>False</td>\n",
              "      <td>False</td>\n",
              "      <td>True</td>\n",
              "      <td>False</td>\n",
              "    </tr>\n",
              "    <tr>\n",
              "      <th>4</th>\n",
              "      <td>0.0</td>\n",
              "      <td>0.0</td>\n",
              "      <td>0.0</td>\n",
              "      <td>0.0</td>\n",
              "      <td>0.0</td>\n",
              "      <td>1.0</td>\n",
              "      <td>0.0</td>\n",
              "      <td>0.0</td>\n",
              "      <td>0.0</td>\n",
              "      <td>0.0</td>\n",
              "      <td>...</td>\n",
              "      <td>0.311983</td>\n",
              "      <td>0</td>\n",
              "      <td>0</td>\n",
              "      <td>0</td>\n",
              "      <td>1</td>\n",
              "      <td>0.304255</td>\n",
              "      <td>False</td>\n",
              "      <td>False</td>\n",
              "      <td>True</td>\n",
              "      <td>False</td>\n",
              "    </tr>\n",
              "    <tr>\n",
              "      <th>6</th>\n",
              "      <td>0.0</td>\n",
              "      <td>0.0</td>\n",
              "      <td>0.0</td>\n",
              "      <td>0.0</td>\n",
              "      <td>0.0</td>\n",
              "      <td>1.0</td>\n",
              "      <td>0.0</td>\n",
              "      <td>0.0</td>\n",
              "      <td>0.0</td>\n",
              "      <td>0.0</td>\n",
              "      <td>...</td>\n",
              "      <td>0.189265</td>\n",
              "      <td>0</td>\n",
              "      <td>1</td>\n",
              "      <td>0</td>\n",
              "      <td>0</td>\n",
              "      <td>0.304255</td>\n",
              "      <td>False</td>\n",
              "      <td>False</td>\n",
              "      <td>True</td>\n",
              "      <td>False</td>\n",
              "    </tr>\n",
              "  </tbody>\n",
              "</table>\n",
              "<p>5 rows × 40 columns</p>\n",
              "</div>"
            ],
            "text/plain": [
              "   April  August  December  February  January  July  June  March  May  \\\n",
              "0    0.0     0.0       0.0       0.0      0.0   1.0   0.0    0.0  0.0   \n",
              "2    0.0     0.0       0.0       0.0      0.0   1.0   0.0    0.0  0.0   \n",
              "3    0.0     0.0       0.0       0.0      0.0   1.0   0.0    0.0  0.0   \n",
              "4    0.0     0.0       0.0       0.0      0.0   1.0   0.0    0.0  0.0   \n",
              "6    0.0     0.0       0.0       0.0      0.0   1.0   0.0    0.0  0.0   \n",
              "\n",
              "   November  ...  distribution_encoded  distribution_channel_Corporate  \\\n",
              "0       0.0  ...              0.189265                               0   \n",
              "2       0.0  ...              0.189265                               0   \n",
              "3       0.0  ...              0.162289                               1   \n",
              "4       0.0  ...              0.311983                               0   \n",
              "6       0.0  ...              0.189265                               0   \n",
              "\n",
              "   distribution_channel_Direct  distribution_channel_GDS  \\\n",
              "0                            1                         0   \n",
              "2                            1                         0   \n",
              "3                            0                         0   \n",
              "4                            0                         0   \n",
              "6                            1                         0   \n",
              "\n",
              "   distribution_channel_TA/TO  customer_encoded  customer_type_Contract  \\\n",
              "0                           0          0.304255                   False   \n",
              "2                           0          0.304255                   False   \n",
              "3                           0          0.304255                   False   \n",
              "4                           1          0.304255                   False   \n",
              "6                           0          0.304255                   False   \n",
              "\n",
              "   customer_type_Group  customer_type_Transient  customer_type_Transient-Party  \n",
              "0                False                     True                          False  \n",
              "2                False                     True                          False  \n",
              "3                False                     True                          False  \n",
              "4                False                     True                          False  \n",
              "6                False                     True                          False  \n",
              "\n",
              "[5 rows x 40 columns]"
            ]
          },
          "execution_count": 60,
          "metadata": {},
          "output_type": "execute_result"
        }
      ],
      "source": [
        "target_means3 = hotels_df.groupby('customer_type')['is_canceled'].mean()\n",
        "hotels_df['customer_encoded'] = hotels_df['customer_type'].map(target_means3)\n",
        "hotels_df = pd.get_dummies(hotels_df, columns=['customer_type'], drop_first=False)\n",
        "hotels_df.head()"
      ]
    },
    {
      "cell_type": "code",
      "execution_count": 61,
      "id": "b0b0389b",
      "metadata": {},
      "outputs": [
        {
          "name": "stderr",
          "output_type": "stream",
          "text": [
            "C:\\Users\\Admin\\AppData\\Local\\Temp\\ipykernel_8064\\3860881359.py:1: FutureWarning: Setting an item of incompatible dtype is deprecated and will raise in a future error of pandas. Value '0         0\n",
            "2         0\n",
            "3         0\n",
            "4         0\n",
            "6         0\n",
            "         ..\n",
            "119378    0\n",
            "119384    0\n",
            "119385    0\n",
            "119387    0\n",
            "119388    0\n",
            "Name: customer_type_Contract, Length: 48929, dtype: int64' has dtype incompatible with bool, please explicitly cast to a compatible dtype first.\n",
            "  hotels_df.iloc[:, -4:] = hotels_df.iloc[:, -4:].astype(int)\n",
            "C:\\Users\\Admin\\AppData\\Local\\Temp\\ipykernel_8064\\3860881359.py:1: FutureWarning: Setting an item of incompatible dtype is deprecated and will raise in a future error of pandas. Value '0         0\n",
            "2         0\n",
            "3         0\n",
            "4         0\n",
            "6         0\n",
            "         ..\n",
            "119378    0\n",
            "119384    0\n",
            "119385    0\n",
            "119387    0\n",
            "119388    0\n",
            "Name: customer_type_Group, Length: 48929, dtype: int64' has dtype incompatible with bool, please explicitly cast to a compatible dtype first.\n",
            "  hotels_df.iloc[:, -4:] = hotels_df.iloc[:, -4:].astype(int)\n",
            "C:\\Users\\Admin\\AppData\\Local\\Temp\\ipykernel_8064\\3860881359.py:1: FutureWarning: Setting an item of incompatible dtype is deprecated and will raise in a future error of pandas. Value '0         1\n",
            "2         1\n",
            "3         1\n",
            "4         1\n",
            "6         1\n",
            "         ..\n",
            "119378    1\n",
            "119384    1\n",
            "119385    1\n",
            "119387    1\n",
            "119388    1\n",
            "Name: customer_type_Transient, Length: 48929, dtype: int64' has dtype incompatible with bool, please explicitly cast to a compatible dtype first.\n",
            "  hotels_df.iloc[:, -4:] = hotels_df.iloc[:, -4:].astype(int)\n",
            "C:\\Users\\Admin\\AppData\\Local\\Temp\\ipykernel_8064\\3860881359.py:1: FutureWarning: Setting an item of incompatible dtype is deprecated and will raise in a future error of pandas. Value '0         0\n",
            "2         0\n",
            "3         0\n",
            "4         0\n",
            "6         0\n",
            "         ..\n",
            "119378    0\n",
            "119384    0\n",
            "119385    0\n",
            "119387    0\n",
            "119388    0\n",
            "Name: customer_type_Transient-Party, Length: 48929, dtype: int64' has dtype incompatible with bool, please explicitly cast to a compatible dtype first.\n",
            "  hotels_df.iloc[:, -4:] = hotels_df.iloc[:, -4:].astype(int)\n"
          ]
        }
      ],
      "source": [
        "hotels_df.iloc[:, -4:] = hotels_df.iloc[:, -4:].astype(int)"
      ]
    },
    {
      "cell_type": "code",
      "execution_count": 62,
      "id": "f3b03c7b",
      "metadata": {},
      "outputs": [],
      "source": [
        "hotels_df.head()\n",
        "hotels_df.drop(columns=['arrival_date_month'], inplace = True)"
      ]
    },
    {
      "cell_type": "markdown",
      "id": "661cc648",
      "metadata": {},
      "source": [
        "### Dzielenie zestawu danych"
      ]
    },
    {
      "cell_type": "code",
      "execution_count": 67,
      "id": "d4100875",
      "metadata": {},
      "outputs": [],
      "source": [
        "from sklearn.model_selection import train_test_split\n",
        "X = hotels_df.drop(columns=['is_canceled']) \n",
        "y = hotels_df['is_canceled']\n",
        "\n",
        "X_train, X_temp, y_train, y_temp = train_test_split(\n",
        "    X, y, test_size=0.4, stratify=y, random_state=42\n",
        ")\n",
        "\n",
        "X_test, X_val, y_test, y_val = train_test_split(\n",
        "    X_temp, y_temp, test_size=0.5, stratify=y_temp, random_state=42\n",
        ")"
      ]
    },
    {
      "cell_type": "markdown",
      "id": "f5b5b728",
      "metadata": {},
      "source": [
        "#### Algorytm select K best edla utworzonych obecnie zmiennych"
      ]
    },
    {
      "cell_type": "code",
      "execution_count": 68,
      "id": "94756b52",
      "metadata": {},
      "outputs": [
        {
          "name": "stdout",
          "output_type": "stream",
          "text": [
            "                           Feature        Score\n",
            "12     required_car_parking_spaces  1637.414606\n",
            "14          is_reserved_compatible  1633.491509\n",
            "20                  market_encoded  1193.475876\n",
            "16                       lead_time  1020.657046\n",
            "27        market_segment_Online TA   887.492900\n",
            "15         cancelations_proportion   468.166514\n",
            "28            distribution_encoded   453.147651\n",
            "32      distribution_channel_TA/TO   449.990794\n",
            "26    market_segment_Offline TA/TO   390.107063\n",
            "33                customer_encoded   373.479008\n",
            "36         customer_type_Transient   362.349334\n",
            "13       total_of_special_requests   291.320638\n",
            "30     distribution_channel_Direct   250.715177\n",
            "37   customer_type_Transient-Party   227.960877\n",
            "24           market_segment_Direct   220.666753\n",
            "23        market_segment_Corporate   147.856720\n",
            "29  distribution_channel_Corporate   138.110233\n",
            "18                          Resort   112.962858\n",
            "17                            City   112.962858\n",
            "25           market_segment_Groups    78.235641\n",
            "34          customer_type_Contract    56.606923\n",
            "35             customer_type_Group    51.102486\n",
            "22    market_segment_Complementary    37.437128\n",
            "19                   month_encoded    18.973541\n",
            "7                            March    17.130147\n",
            "5                             July     8.397493\n",
            "3                         February     8.062512\n",
            "31        distribution_channel_GDS     7.570926\n",
            "6                             June     4.238794\n",
            "4                          January     2.121392\n",
            "2                         December     1.673569\n",
            "1                           August     1.296347\n",
            "21         market_segment_Aviation     1.257483\n",
            "9                         November     1.234947\n",
            "8                              May     0.251962\n",
            "11                       September     0.119954\n",
            "0                            April     0.102779\n",
            "10                         October     0.005218\n"
          ]
        }
      ],
      "source": [
        "from sklearn.feature_selection import SelectKBest, f_classif\n",
        "from sklearn.feature_selection import SelectFromModel\n",
        "from sklearn.ensemble import RandomForestClassifier\n",
        "cat_choose = SelectKBest(f_classif, k='all') \n",
        "cat_choose.fit(X_train, y_train)\n",
        "feature_scores = pd.DataFrame({'Feature': X_train.columns, 'Score': cat_choose.scores_})\n",
        "feature_scores = feature_scores.sort_values(by='Score', ascending=False)\n",
        "print(feature_scores)"
      ]
    },
    {
      "cell_type": "markdown",
      "id": "2a8bdae3",
      "metadata": {},
      "source": [
        "Wziąłem tutaj k = 5, po tych 5 cechach widać spory spadek w scorze"
      ]
    },
    {
      "cell_type": "markdown",
      "id": "a8e1a448",
      "metadata": {},
      "source": [
        "### Algorytm select from Model"
      ]
    },
    {
      "cell_type": "code",
      "execution_count": 69,
      "id": "7c3b42fb",
      "metadata": {},
      "outputs": [
        {
          "name": "stdout",
          "output_type": "stream",
          "text": [
            "Selected features: Index(['required_car_parking_spaces', 'total_of_special_requests',\n",
            "       'is_reserved_compatible', 'lead_time'],\n",
            "      dtype='object')\n"
          ]
        },
        {
          "name": "stderr",
          "output_type": "stream",
          "text": [
            "c:\\Users\\Admin\\AppData\\Local\\Programs\\Python\\Python39\\lib\\site-packages\\sklearn\\base.py:486: UserWarning: X has feature names, but SelectFromModel was fitted without feature names\n",
            "  warnings.warn(\n"
          ]
        }
      ],
      "source": [
        "clf = RandomForestClassifier(random_state=42)\n",
        "clf = clf.fit(X_train, y_train)\n",
        "clf.feature_importances_  \n",
        "model = SelectFromModel(clf, prefit=True)\n",
        "X_train_t = model.transform(X_train)\n",
        "selected_features = X_train.columns[model.get_support()]\n",
        "print(\"Selected features:\", selected_features)"
      ]
    },
    {
      "cell_type": "markdown",
      "id": "24ed7474",
      "metadata": {},
      "source": [
        "### Algorytm rekursywnej eliminacji cech"
      ]
    },
    {
      "cell_type": "code",
      "execution_count": null,
      "id": "b218d274",
      "metadata": {},
      "outputs": [
        {
          "name": "stderr",
          "output_type": "stream",
          "text": [
            "c:\\Users\\Admin\\AppData\\Local\\Programs\\Python\\Python39\\lib\\site-packages\\sklearn\\linear_model\\_logistic.py:465: ConvergenceWarning: lbfgs failed to converge (status=1):\n",
            "STOP: TOTAL NO. of ITERATIONS REACHED LIMIT.\n",
            "\n",
            "Increase the number of iterations (max_iter) or scale the data as shown in:\n",
            "    https://scikit-learn.org/stable/modules/preprocessing.html\n",
            "Please also refer to the documentation for alternative solver options:\n",
            "    https://scikit-learn.org/stable/modules/linear_model.html#logistic-regression\n",
            "  n_iter_i = _check_optimize_result(\n"
          ]
        }
      ],
      "source": [
        "from sklearn.feature_selection import RFE\n",
        "from sklearn.linear_model import LogisticRegression\n",
        "log_clf = LogisticRegression(C = 0.1, class_weight= 'balanced', penalty= 'l2', random_state=42)\n",
        "selector = RFE(estimator=log_clf, n_features_to_select=5, step=1)\n",
        "selector.fit(X_train, y_train)\n",
        "X_train_t = selector.transform(X_train)\n",
        "selected_features = X_train.columns[selector.get_support()]\n"
      ]
    },
    {
      "cell_type": "code",
      "execution_count": null,
      "id": "52619d63",
      "metadata": {},
      "outputs": [
        {
          "name": "stdout",
          "output_type": "stream",
          "text": [
            "Index(['required_car_parking_spaces', 'is_reserved_compatible',\n",
            "       'cancelations_proportion', 'market_segment_Groups',\n",
            "       'customer_type_Transient'],\n",
            "      dtype='object')\n"
          ]
        }
      ],
      "source": [
        "print(selected_features)"
      ]
    },
    {
      "cell_type": "markdown",
      "id": "4f0bbb19",
      "metadata": {},
      "source": [
        "Z poprzednimi algorytmami pokrywają się required_car_parking_spaces, is_reversed_compatible oraz częściowo market_segment. Warto też rozważyć lead_time. Ostateczny wybór cech na podstawie dwóch niezależnych podejść analitycznych w pliku milestone2. "
      ]
    }
  ],
  "metadata": {
    "kernelspec": {
      "display_name": "Python 3",
      "language": "python",
      "name": "python3"
    },
    "language_info": {
      "codemirror_mode": {
        "name": "ipython",
        "version": 3
      },
      "file_extension": ".py",
      "mimetype": "text/x-python",
      "name": "python",
      "nbconvert_exporter": "python",
      "pygments_lexer": "ipython3",
      "version": "3.9.13"
    }
  },
  "nbformat": 4,
  "nbformat_minor": 5
}
