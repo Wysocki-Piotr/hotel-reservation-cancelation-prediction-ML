{
 "cells": [
  {
   "cell_type": "markdown",
   "metadata": {},
   "source": [
    "# Milestone 2"
   ]
  },
  {
   "cell_type": "code",
   "execution_count": 1,
   "metadata": {},
   "outputs": [],
   "source": [
    "import numpy as np\n",
    "import pandas as pd"
   ]
  },
  {
   "cell_type": "code",
   "execution_count": 2,
   "metadata": {},
   "outputs": [],
   "source": [
    "df = pd.read_csv(\"hotel_bookings.csv\")"
   ]
  },
  {
   "cell_type": "code",
   "execution_count": null,
   "metadata": {},
   "outputs": [],
   "source": [
    "# from sklearnex import patch_sklearn\n",
    "# patch_sklearn()\n",
    "from sklearn.model_selection import train_test_split\n",
    "from sklearn.linear_model import LogisticRegression\n",
    "from sklearn.feature_selection import SelectKBest, f_classif, mutual_info_classif, SelectFromModel, RFE\n",
    "from sklearn.ensemble import RandomForestClassifier\n",
    "import xgboost as xgb"
   ]
  },
  {
   "cell_type": "markdown",
   "metadata": {},
   "source": [
    "### Poniższa komórka to przetworzenie danych z plików EDA i data_preparation"
   ]
  },
  {
   "cell_type": "code",
   "execution_count": null,
   "metadata": {},
   "outputs": [],
   "source": [
    "from sklearn.preprocessing import OneHotEncoder\n",
    "pd.set_option('future.no_silent_downcasting', True)\n",
    "null_replacements = {\"children:\": 0, \"country\": \"Unknown\", \"agent\": 0, \"company\": 0}\n",
    "hotels_df = df.fillna(null_replacements)\n",
    "hotels_df = pd.get_dummies(df, columns=['hotel'])\n",
    "hotels_df = hotels_df.rename(columns={'hotel_City Hotel': 'City', 'hotel_Resort Hotel': 'Resort'})\n",
    "encoder = OneHotEncoder(sparse_output=False)\n",
    "encoded_months = encoder.fit_transform(hotels_df[['arrival_date_month']])\n",
    "encoded_df = pd.DataFrame(encoded_months, columns=encoder.categories_[0])\n",
    "encoded_df['is_canceled'] = hotels_df['is_canceled']\n",
    "hotels_df = pd.concat([hotels_df, encoded_df], axis=1)\n",
    "hotels_df[\"cancelations_proportion\"] = hotels_df.apply(\n",
    "    lambda row: 0.5 if row[\"is_repeated_guest\"] == 0 else row[\"previous_cancellations\"] / \n",
    "    (row[\"previous_cancellations\"] + row[\"previous_bookings_not_canceled\"]) \n",
    "    if (row[\"previous_cancellations\"] + row[\"previous_bookings_not_canceled\"]) > 0 else 0.5,\n",
    "    axis=1\n",
    ")\n",
    "hotels_df['is_reserved_compatible'] = (hotels_df['assigned_room_type'] == hotels_df['reserved_room_type']).astype(int)\n",
    "hotels_df = hotels_df.loc[:, ~hotels_df.columns.duplicated()].copy()\n",
    "hotels_df[['City', 'Resort']] = hotels_df[['City', 'Resort']].replace({True: 1, False: 0}).infer_objects(copy=False)\n",
    "columns_to_select = [\n",
    "    'April', 'August', 'December', 'February', 'January', 'July', 'June', 'March', 'May',\n",
    "    'November', 'October', 'September',  \n",
    "    'required_car_parking_spaces',  \n",
    "    'total_of_special_requests', \n",
    "    'is_canceled',  \n",
    "    'is_reserved_compatible', \n",
    "    'cancelations_proportion',  \n",
    "    'lead_time', \n",
    "    'City', 'Resort',\n",
    "    'market_segment','distribution_channel',\n",
    "    'customer_type','arrival_date_month'\n",
    "]\n",
    "hotels_df = hotels_df[columns_to_select]\n",
    "target_means4 = hotels_df.groupby('arrival_date_month')['is_canceled'].mean()\n",
    "# Usunięcie duplikatów\n",
    "hotels_df['month_encoded'] = hotels_df['arrival_date_month'].map(target_means4)\n",
    "hotels_df.drop_duplicates(inplace=True)\n",
    "hotels_df = hotels_df.replace(\"Undefined\", np.nan)\n",
    "hotels_df = hotels_df.dropna()\n",
    "# Target encoding dla market_segment\n",
    "target_means = hotels_df.groupby('market_segment')['is_canceled'].mean()\n",
    "hotels_df['market_encoded'] = hotels_df['market_segment'].map(target_means)\n",
    "hotels_df.reset_index()\n",
    "hotels_df = pd.get_dummies(hotels_df, columns=['market_segment'], drop_first=False)\n",
    "hotels_df.iloc[:, -7:] = hotels_df.iloc[:, -7:].astype(int)\n",
    "# Target encoding dla distribution_channel\n",
    "target_means2 = hotels_df.groupby('distribution_channel')['is_canceled'].mean()\n",
    "hotels_df['distribution_encoded'] = hotels_df['distribution_channel'].map(target_means2)\n",
    "hotels_df.reset_index()\n",
    "hotels_df = pd.get_dummies(hotels_df, columns=['distribution_channel'], drop_first=False)\n",
    "hotels_df.iloc[:, -4:] = hotels_df.iloc[:, -4:].astype(int)\n",
    "# Target encoding dla customer_type\n",
    "target_means3 = hotels_df.groupby('customer_type')['is_canceled'].mean()\n",
    "hotels_df['customer_encoded'] = hotels_df['customer_type'].map(target_means3)\n",
    "hotels_df = pd.get_dummies(hotels_df, columns=['customer_type'], drop_first=False)\n",
    "hotels_df.head()\n",
    "hotels_df.iloc[:, -4:] = hotels_df.iloc[:, -4:].astype(int)\n",
    "hotels_df.head()\n",
    "hotels_df.drop(columns=['arrival_date_month'], inplace = True)"
   ]
  },
  {
   "cell_type": "code",
   "execution_count": 7,
   "metadata": {},
   "outputs": [],
   "source": [
    "from sklearn.model_selection import train_test_split\n",
    "X = hotels_df.drop(columns=['is_canceled']) \n",
    "y = hotels_df['is_canceled']\n",
    "\n",
    "X_train, X_temp, y_train, y_temp = train_test_split(\n",
    "    X, y, test_size=0.4, stratify=y, random_state=42\n",
    ")\n",
    "\n",
    "X_test, X_val, y_test, y_val = train_test_split(\n",
    "    X_temp, y_temp, test_size=0.5, stratify=y_temp, random_state=42\n",
    ")"
   ]
  },
  {
   "cell_type": "markdown",
   "metadata": {},
   "source": [
    "#### Tworzymy funkcję do podziału zbioru na 4 zestawy: \n",
    "- treningowy\n",
    "- walidacyjny\n",
    "- treningowo-walidacyjny (połączenie obu powyżej) - do walidacji krzyżowej\n",
    "- testowy po weryfikacji wyników po skończeniu procesu"
   ]
  },
  {
   "cell_type": "code",
   "execution_count": null,
   "metadata": {},
   "outputs": [],
   "source": [
    "def create_sets(df, with_tests = 0): \n",
    "    y = np.array(df.is_canceled)\n",
    "    X = df.drop(['is_canceled'], axis=1)\n",
    "\n",
    "    X_train, X_val, y_train, y_val = train_test_split(\n",
    "        X, y, stratify=y, test_size=0.2, random_state=42\n",
    "    ) \n",
    "\n",
    "    X_train, X_test, y_train, y_test = train_test_split(\n",
    "        X_train, y_train, stratify=y_train, test_size=0.25, random_state=42 # 0.25 * 0.8 = 0.2\n",
    "    )\n",
    "\n",
    "    X_train_val=pd.concat((X_train,X_val))\n",
    "    y_train_val=np.concatenate((y_train,y_val), axis=0)\n",
    "    print(X_train.shape, X_val.shape, X_test.shape)\n",
    "    if with_tests: return X_train, X_val, y_train, y_val, X_train_val, y_train_val, X_test, y_test\n",
    "    return X_train, X_val, y_train, y_val, X_train_val, y_train_val"
   ]
  },
  {
   "cell_type": "markdown",
   "metadata": {},
   "source": [
    "##### Po podziale na zbiory możemy wykonać target encoding na każdym zbiorze osobno, aby uniknąć data leak (ten sposób pojawi się w kolejnym pliku gdzie modelujemy)"
   ]
  },
  {
   "cell_type": "markdown",
   "metadata": {},
   "source": [
    "- Zmienna lead_time miała rozkład skośny, więc użyto na niej logarytmu i dokanano standaryzacji \\\n",
    "- Ponadto usunięto kolumny agent, company gdyż miały zbyt dużo braków danych i były z grubsza napisami \\\n",
    "- Usunięto także reservation_status i reservation_status_date, które niemal jednoznacznie pokrywały się z targetem, więc nie było sensu używać ich w modelowaniu"
   ]
  },
  {
   "cell_type": "code",
   "execution_count": null,
   "metadata": {},
   "outputs": [
    {
     "name": "stdout",
     "output_type": "stream",
     "text": [
      "(52164, 239) (17388, 239) (17388, 239)\n"
     ]
    }
   ],
   "source": [
    "df['lead_time_std'] = -1.0\n",
    "df.loc[df['lead_time'] > 0, 'lead_time_std'] = np.log(df.lead_time[df.lead_time > 0])\n",
    "df['lead_time_std'] = (df['lead_time_std'] - np.mean(df['lead_time_std']))/np.std(df['lead_time_std'])\n",
    "df_temp = df.drop_duplicates().drop(['agent', 'company', 'reservation_status', 'lead_time', 'reservation_status_date'], axis = 1).dropna()\n",
    "target_means = df_temp.groupby('market_segment')['is_canceled'].mean()\n",
    "df_temp['market_encoded'] = df_temp['market_segment'].map(target_means)\n",
    "df_temp = df_temp.drop(['market_segment'], axis = 1)\n",
    "df_all_en = pd.get_dummies(df_temp, columns= df_temp.select_dtypes(include=['object']).columns.to_list(), drop_first=True, dtype='int')\n",
    "X_train, X_val, y_train, y_val, X_train_val, y_train_val= create_sets(df_all_en)\n",
    "var_X = X_train\n",
    "var_y = y_train"
   ]
  },
  {
   "cell_type": "markdown",
   "metadata": {},
   "source": [
    "### Select KBest dla przygotowanych tak zbiorów"
   ]
  },
  {
   "cell_type": "code",
   "execution_count": 25,
   "metadata": {},
   "outputs": [],
   "source": [
    "def kbest(score_func):\n",
    "    cat_choose = SelectKBest(score_func, k='all') \n",
    "    cat_choose.fit(var_X, var_y)\n",
    "    feature_scores = pd.DataFrame({'Feature': var_X.columns, 'Score': cat_choose.scores_})\n",
    "    feature_scores = feature_scores.sort_values(by='Score', ascending=False)\n",
    "    return feature_scores"
   ]
  },
  {
   "cell_type": "code",
   "execution_count": 46,
   "metadata": {},
   "outputs": [
    {
     "name": "stdout",
     "output_type": "stream",
     "text": [
      "                            Feature        Score\n",
      "16                    lead_time_std  3147.896104\n",
      "17                   market_encoded  2687.463693\n",
      "14      required_car_parking_spaces  1831.517317\n",
      "234         deposit_type_Non Refund  1390.760391\n",
      "212      distribution_channel_TA/TO  1210.002753\n",
      "13                              adr   985.137994\n",
      "237         customer_type_Transient   879.991068\n",
      "15        total_of_special_requests   786.912873\n",
      "168                     country_PRT   777.386441\n",
      "210     distribution_channel_Direct   739.086242\n",
      "238   customer_type_Transient-Party   652.567330\n",
      "11                  booking_changes   447.060888\n",
      "8                 is_repeated_guest   428.484690\n",
      "0                 arrival_date_year   424.247422\n",
      "4              stays_in_week_nights   386.321717\n",
      "5                            adults   337.668224\n",
      "92                      country_GBR   294.712394\n",
      "6                          children   280.201506\n",
      "18               hotel_Resort Hotel   239.172737\n",
      "3           stays_in_weekend_nights   216.678419\n",
      "89                      country_FRA   186.614430\n",
      "32                          meal_SC   166.677651\n",
      "10   previous_bookings_not_canceled   136.969535\n",
      "9            previous_cancellations   125.008321\n",
      "64                      country_CHN   116.921140\n"
     ]
    }
   ],
   "source": [
    "feature_scores = kbest(f_classif)\n",
    "print(feature_scores.iloc[:25, :])"
   ]
  },
  {
   "cell_type": "code",
   "execution_count": 52,
   "metadata": {},
   "outputs": [
    {
     "name": "stdout",
     "output_type": "stream",
     "text": [
      "                            Feature     Score\n",
      "13                              adr  0.038859\n",
      "16                    lead_time_std  0.036490\n",
      "14      required_car_parking_spaces  0.030784\n",
      "17                   market_encoded  0.026172\n",
      "212      distribution_channel_TA/TO  0.018365\n",
      "234         deposit_type_Non Refund  0.017006\n",
      "237         customer_type_Transient  0.015473\n",
      "15        total_of_special_requests  0.010223\n",
      "9            previous_cancellations  0.009770\n",
      "168                     country_PRT  0.009295\n",
      "11                  booking_changes  0.008675\n",
      "0                 arrival_date_year  0.008208\n",
      "10   previous_bookings_not_canceled  0.008165\n",
      "210     distribution_channel_Direct  0.008095\n",
      "238   customer_type_Transient-Party  0.006514\n",
      "4              stays_in_week_nights  0.006313\n",
      "8                 is_repeated_guest  0.005398\n",
      "225            assigned_room_type_D  0.005298\n",
      "95                      country_GHA  0.005184\n",
      "5                            adults  0.005056\n",
      "3           stays_in_weekend_nights  0.004998\n",
      "77                      country_DJI  0.004235\n",
      "206                     country_VNM  0.004234\n",
      "58                      country_BRA  0.004008\n",
      "27      arrival_date_month_November  0.003948\n"
     ]
    }
   ],
   "source": [
    "feature_scores = kbest(mutual_info_classif)\n",
    "print(feature_scores.iloc[:25, :])"
   ]
  },
  {
   "cell_type": "code",
   "execution_count": 8,
   "metadata": {},
   "outputs": [
    {
     "name": "stdout",
     "output_type": "stream",
     "text": [
      "                           Feature        Score\n",
      "14          is_reserved_compatible  1621.802217\n",
      "12     required_car_parking_spaces  1549.252897\n",
      "20                  market_encoded  1220.167029\n",
      "16                       lead_time   996.152026\n",
      "27        market_segment_Online TA   923.893578\n",
      "15         cancelations_proportion   483.246047\n",
      "28            distribution_encoded   464.601949\n",
      "32      distribution_channel_TA/TO   461.422082\n",
      "26    market_segment_Offline TA/TO   392.609327\n",
      "33                customer_encoded   361.298493\n",
      "36         customer_type_Transient   349.402222\n",
      "13       total_of_special_requests   311.332470\n",
      "30     distribution_channel_Direct   261.902249\n",
      "24           market_segment_Direct   234.539867\n",
      "37   customer_type_Transient-Party   223.780912\n",
      "23        market_segment_Corporate   149.658352\n",
      "29  distribution_channel_Corporate   138.657024\n",
      "18                          Resort   113.046436\n",
      "17                            City   113.046436\n",
      "25           market_segment_Groups    70.792532\n",
      "35             customer_type_Group    51.799005\n",
      "34          customer_type_Contract    50.365970\n",
      "22    market_segment_Complementary    36.522104\n",
      "19                   month_encoded    20.522271\n",
      "7                            March    17.227610\n",
      "5                             July     8.071697\n",
      "3                         February     7.975446\n",
      "31        distribution_channel_GDS     5.508040\n",
      "6                             June     4.569237\n",
      "4                          January     3.544274\n",
      "2                         December     1.872989\n",
      "1                           August     1.564609\n",
      "9                         November     1.005341\n",
      "21         market_segment_Aviation     0.744465\n",
      "8                              May     0.106713\n",
      "0                            April     0.087408\n",
      "10                         October     0.078308\n",
      "11                       September     0.011967\n"
     ]
    }
   ],
   "source": [
    "from sklearn.feature_selection import SelectKBest, f_classif\n",
    "cat_choose = SelectKBest(f_classif, k='all') \n",
    "cat_choose.fit(X_train, y_train)\n",
    "feature_scores = pd.DataFrame({'Feature': X_train.columns, 'Score': cat_choose.scores_})\n",
    "feature_scores = feature_scores.sort_values(by='Score', ascending=False)\n",
    "print(feature_scores)"
   ]
  },
  {
   "cell_type": "markdown",
   "metadata": {},
   "source": [
    "### SelectFromModel: RandomForest i XGBoost"
   ]
  },
  {
   "cell_type": "markdown",
   "metadata": {},
   "source": [
    "**RandomForest**"
   ]
  },
  {
   "cell_type": "code",
   "execution_count": 51,
   "metadata": {},
   "outputs": [
    {
     "data": {
      "text/plain": [
       "Index(['arrival_date_year', 'arrival_date_week_number',\n",
       "       'arrival_date_day_of_month', 'stays_in_weekend_nights',\n",
       "       'stays_in_week_nights', 'adults', 'children', 'previous_cancellations',\n",
       "       'previous_bookings_not_canceled', 'booking_changes', 'adr',\n",
       "       'required_car_parking_spaces', 'total_of_special_requests',\n",
       "       'lead_time_std', 'market_encoded', 'hotel_Resort Hotel',\n",
       "       'arrival_date_month_August', 'arrival_date_month_July',\n",
       "       'arrival_date_month_June', 'arrival_date_month_May', 'meal_HB',\n",
       "       'meal_SC', 'country_DEU', 'country_ESP', 'country_FRA', 'country_GBR',\n",
       "       'country_ITA', 'country_PRT', 'distribution_channel_Direct',\n",
       "       'distribution_channel_TA/TO', 'reserved_room_type_D',\n",
       "       'assigned_room_type_D', 'assigned_room_type_E',\n",
       "       'deposit_type_Non Refund', 'customer_type_Transient',\n",
       "       'customer_type_Transient-Party'],\n",
       "      dtype='object')"
      ]
     },
     "execution_count": 51,
     "metadata": {},
     "output_type": "execute_result"
    }
   ],
   "source": [
    "clf = RandomForestClassifier(random_state=42)\n",
    "clf = clf.fit(var_X, var_y)\n",
    "clf.feature_importances_  \n",
    "model = SelectFromModel(clf, prefit=True)\n",
    "X_train_t = model.transform(var_X)\n",
    "selected_features = var_X.columns[model.get_support()]\n",
    "selected_features"
   ]
  },
  {
   "cell_type": "code",
   "execution_count": null,
   "metadata": {},
   "outputs": [
    {
     "name": "stdout",
     "output_type": "stream",
     "text": [
      "Selected features: Index(['required_car_parking_spaces', 'total_of_special_requests',\n",
      "       'is_reserved_compatible', 'lead_time'],\n",
      "      dtype='object')\n"
     ]
    }
   ],
   "source": [
    "from sklearn.feature_selection import SelectFromModel\n",
    "from sklearn.ensemble import RandomForestClassifier\n",
    "clf = RandomForestClassifier(random_state=42)\n",
    "clf = clf.fit(X_train, y_train)\n",
    "clf.feature_importances_  \n",
    "model = SelectFromModel(clf, prefit=True)\n",
    "X_train_t = model.transform(X_train)\n",
    "selected_features = X_train.columns[model.get_support()]\n",
    "print(\"Selected features:\", selected_features)"
   ]
  },
  {
   "cell_type": "markdown",
   "metadata": {},
   "source": [
    "**XGBoost**"
   ]
  },
  {
   "cell_type": "code",
   "execution_count": null,
   "metadata": {},
   "outputs": [
    {
     "name": "stdout",
     "output_type": "stream",
     "text": [
      "Index(['arrival_date_year', 'stays_in_weekend_nights', 'stays_in_week_nights',\n",
      "       'adults', 'children', 'is_repeated_guest', 'previous_cancellations',\n",
      "       'previous_bookings_not_canceled', 'booking_changes', 'adr',\n",
      "       'required_car_parking_spaces', 'total_of_special_requests',\n",
      "       'market_encoded', 'hotel_Resort Hotel', 'arrival_date_month_December',\n",
      "       'arrival_date_month_January', 'arrival_date_month_March',\n",
      "       'arrival_date_month_May', 'arrival_date_month_November', 'meal_SC',\n",
      "       'country_AGO', 'country_ARE', 'country_AUT', 'country_BEL',\n",
      "       'country_BRA', 'country_CHE', 'country_CHN', 'country_DEU',\n",
      "       'country_ESP', 'country_FIN', 'country_FRA', 'country_GBR',\n",
      "       'country_GIB', 'country_IRL', 'country_ITA', 'country_MAR',\n",
      "       'country_NLD', 'country_PRT', 'country_RUS',\n",
      "       'distribution_channel_Direct', 'distribution_channel_TA/TO',\n",
      "       'reserved_room_type_B', 'reserved_room_type_C', 'reserved_room_type_D',\n",
      "       'reserved_room_type_E', 'reserved_room_type_F', 'reserved_room_type_G',\n",
      "       'assigned_room_type_B', 'assigned_room_type_C', 'assigned_room_type_D',\n",
      "       'assigned_room_type_E', 'assigned_room_type_F', 'assigned_room_type_I',\n",
      "       'assigned_room_type_K', 'deposit_type_Non Refund',\n",
      "       'customer_type_Transient', 'customer_type_Transient-Party'],\n",
      "      dtype='object')\n"
     ]
    }
   ],
   "source": [
    "X_train, X_val, y_train, y_val, X_train_val, y_train_val= create_sets(df_all_en)\n",
    "clf = xgb.XGBClassifier(learning_rate = 0.10780119865397095, n_estimators = 464, max_depth = 8)\n",
    "clf.fit(X_train, y_train, eval_set=[(X_val, y_val)])\n",
    "y_hat = clf.predict(X_val)\n",
    "model = SelectFromModel(clf, prefit=True)\n",
    "X_train_t = model.transform(var_X)\n",
    "selected_features_xgb = var_X.columns[model.get_support()]\n",
    "print(selected_features_xgb)"
   ]
  },
  {
   "cell_type": "markdown",
   "metadata": {},
   "source": [
    "### RFE"
   ]
  },
  {
   "cell_type": "markdown",
   "metadata": {},
   "source": [
    "**LogisticRegression**"
   ]
  },
  {
   "cell_type": "code",
   "execution_count": null,
   "metadata": {},
   "outputs": [],
   "source": [
    "log_clf = LogisticRegression(C = 2, max_iter = 100000, solver='newton-cholesky', verbose=1)\n",
    "selector = RFE(estimator=log_clf, n_features_to_select=10, step=1, verbose = 1)\n",
    "selector.fit(var_X, var_y)\n",
    "X_train_t = selector.transform(var_X)\n",
    "selected_features2 = var_X.columns[selector.get_support()]\n",
    "print(selected_features2)"
   ]
  },
  {
   "cell_type": "code",
   "execution_count": 50,
   "metadata": {},
   "outputs": [
    {
     "name": "stdout",
     "output_type": "stream",
     "text": [
      "Index(['required_car_parking_spaces', 'market_encoded', 'country_ARE',\n",
      "       'country_GIB', 'country_HKG', 'country_MDV', 'country_SRB',\n",
      "       'assigned_room_type_I', 'assigned_room_type_K',\n",
      "       'deposit_type_Non Refund'],\n",
      "      dtype='object')\n"
     ]
    }
   ],
   "source": [
    "print(selected_features2)"
   ]
  },
  {
   "cell_type": "markdown",
   "metadata": {},
   "source": [
    "**XGBoost**"
   ]
  },
  {
   "cell_type": "code",
   "execution_count": null,
   "metadata": {},
   "outputs": [
    {
     "name": "stdout",
     "output_type": "stream",
     "text": [
      "0              arrival_date_year\n",
      "1         previous_cancellations\n",
      "2    required_car_parking_spaces\n",
      "3      total_of_special_requests\n",
      "4                 market_encoded\n",
      "5                    country_GIB\n",
      "6                    country_PRT\n",
      "7    distribution_channel_Direct\n",
      "8        deposit_type_Non Refund\n",
      "9        customer_type_Transient\n",
      "Name: 0, dtype: object\n"
     ]
    }
   ],
   "source": [
    "selector = RFE(estimator=xgb_clf, n_features_to_select=10, step=5, verbose = 1)\n",
    "selector.fit(var_X, var_y)\n",
    "X_train_t = selector.transform(var_X)\n",
    "selected_features3 = var_X.columns[selector.get_support()]\n",
    "print(selected_features3)"
   ]
  },
  {
   "cell_type": "markdown",
   "metadata": {},
   "source": [
    "**Podsumowanie - cechy wybrane do modelu**: \n",
    "- *kluczowe:* required_car_parking_spaces, lead_time_std, is_reserved_compatible, total_of_special_requests, deposit_type_Non Refund, adr,  market_encoded\n",
    "- *pozostałe:* cancelations_proportion, customer_type_Transient, country_PRT, previous_cancellations, previous_bookings_not_canceled, hotel_Resort Hotel, country_GBR, country_FRA\n",
    "Z krajów wybraliśmy te, które najwyżej się pojawiały i zarazem były dość liczne (nie ma sensu modelowanie w oparciu o kraje, z których pochodzi mniej niż 1 % klientów). Większość była z Portugalii \\\n",
    "\n",
    "Rozważyliśmy też zmienną is_repeated_guest, która w 1 etapie EDA wykazywała zauważalną zależność z etykietą docelową, ale żaden z algorytmów nie pokazał jej znaczącej zależności, więc odrzuciliśmy tę cechę"
   ]
  }
 ],
 "metadata": {
  "kernelspec": {
   "display_name": "Python 3",
   "language": "python",
   "name": "python3"
  },
  "language_info": {
   "codemirror_mode": {
    "name": "ipython",
    "version": 3
   },
   "file_extension": ".py",
   "mimetype": "text/x-python",
   "name": "python",
   "nbconvert_exporter": "python",
   "pygments_lexer": "ipython3",
   "version": "3.9.13"
  }
 },
 "nbformat": 4,
 "nbformat_minor": 2
}
