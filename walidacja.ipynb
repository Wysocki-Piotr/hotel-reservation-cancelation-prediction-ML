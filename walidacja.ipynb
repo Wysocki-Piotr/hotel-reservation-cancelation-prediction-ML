{
 "cells": [
  {
   "cell_type": "markdown",
   "id": "9fd2f6a2",
   "metadata": {},
   "source": [
    "# Walidacja\n",
    "## wystarczy odpalić cały plik"
   ]
  },
  {
   "cell_type": "code",
   "execution_count": null,
   "id": "95e10abe",
   "metadata": {},
   "outputs": [],
   "source": [
    "import numpy as np\n",
    "import pandas as pd\n",
    "from sklearn.model_selection import train_test_split\n",
    "from sklearn.ensemble import HistGradientBoostingClassifier\n",
    "from sklearn.metrics import accuracy_score, f1_score, roc_auc_score, precision_score, recall_score"
   ]
  },
  {
   "cell_type": "code",
   "execution_count": 11,
   "id": "64f07641",
   "metadata": {},
   "outputs": [],
   "source": [
    "df_raw = pd.read_csv(\"hotel_bookings.csv\")\n",
    "\n",
    "df_raw_temp = df_raw.copy()\n",
    "df_raw_temp['lead_time_std'] = -1.0\n",
    "df_raw_temp.loc[df_raw_temp['lead_time'] > 0, 'lead_time_std'] = np.log(df_raw_temp.lead_time[df_raw_temp.lead_time > 0])\n",
    "df_raw_temp['lead_time_std'] = (df_raw_temp['lead_time_std'] - np.mean(df_raw_temp['lead_time_std']))/np.std(df_raw_temp['lead_time_std'])\n",
    "\n",
    "df_raw_temp['is_reserved_compatible'] = (df_raw_temp['assigned_room_type'] == df_raw_temp['reserved_room_type']).astype(int)\n",
    "df_raw_temp[\"cancelations_proportion\"] = df_raw_temp.apply(\n",
    "    lambda row: 0.5 if row[\"is_repeated_guest\"] == 0 else row[\"previous_cancellations\"] / \n",
    "    (row[\"previous_cancellations\"] + row[\"previous_bookings_not_canceled\"]) \n",
    "    if (row[\"previous_cancellations\"] + row[\"previous_bookings_not_canceled\"]) > 0 else 0.5,\n",
    "    axis=1\n",
    ")\n",
    "df_raw_en = pd.get_dummies(df_raw_temp, columns= df_raw_temp.drop(['market_segment'], axis = 1).select_dtypes(include=['object']).columns.to_list(), dtype='int')\n",
    "df = df_raw_en.drop_duplicates().loc[\n",
    "    :, ['is_canceled', 'required_car_parking_spaces', 'lead_time_std', 'is_reserved_compatible', 'total_of_special_requests', \n",
    "        'deposit_type_Non Refund', 'adr', 'cancelations_proportion', 'customer_type_Transient', 'country_PRT', 'previous_cancellations',\n",
    "        'previous_bookings_not_canceled', 'hotel_Resort Hotel', 'country_GBR', 'country_FRA', 'market_segment']].dropna()"
   ]
  },
  {
   "cell_type": "code",
   "execution_count": null,
   "id": "bf669bf8",
   "metadata": {},
   "outputs": [],
   "source": [
    "def create_sets(df, with_tests = 0): \n",
    "    y = np.array(df.is_canceled)\n",
    "    X = df.drop(['is_canceled'], axis=1)\n",
    "\n",
    "    X_train, X_val, y_train, y_val = train_test_split(\n",
    "        X, y, stratify=y, test_size=0.2, random_state=42\n",
    "    )\n",
    "    X_train, X_test, y_train, y_test = train_test_split(\n",
    "        X_train, y_train, stratify=y_train, test_size=0.25, random_state=42 # 0.25 * 0.8 = 0.2\n",
    "    )\n",
    "    X_train_val=pd.concat((X_train,X_val))\n",
    "    y_train_val=np.concatenate((y_train,y_val), axis=0)\n",
    "    print(X_train.shape, X_val.shape, X_test.shape)\n",
    "    if with_tests: return X_train, X_val, y_train, y_val, X_train_val, y_train_val, X_test, y_test\n",
    "    return X_train, X_val, y_train, y_val, X_train_val, y_train_val"
   ]
  },
  {
   "cell_type": "code",
   "execution_count": null,
   "id": "1efe187c",
   "metadata": {},
   "outputs": [],
   "source": [
    "X_train, X_val, y_train, y_val, X_train_val, y_train_val, X_test, y_test = create_sets(df, 1)\n",
    "X_y_train = X_train.copy()\n",
    "X_y_train['is_canceled'] = y_train\n",
    "X_y_val = X_val.copy()\n",
    "X_y_val['is_canceled'] = y_val\n",
    "X_y_test = X_test.copy()\n",
    "X_y_test['is_canceled'] = y_test\n",
    "X_y_train_val = X_train_val.copy()\n",
    "X_y_train_val['is_canceled'] = y_train_val\n",
    "\n",
    "X_y_variables = [X_y_train, X_y_val, X_y_test, X_y_train_val]\n",
    "for X_y in X_y_variables:\n",
    "    print(X_y.columns)\n",
    "    target_means = X_y.groupby('market_segment')['is_canceled'].mean()\n",
    "    X_y['market_encoded'] = X_y['market_segment'].map(target_means)\n",
    "    X_y.drop(['market_segment'], axis=1, inplace=True)\n",
    "\n",
    "y_train, X_train = X_y_train['is_canceled'], X_y_train.drop('is_canceled', axis = 1)\n",
    "y_val, X_val = X_y_val['is_canceled'], X_y_val.drop('is_canceled', axis = 1)\n",
    "y_test, X_test = X_y_test['is_canceled'], X_y_test.drop('is_canceled', axis = 1)\n",
    "y_train_val, X_train_val = X_y_train_val['is_canceled'], X_y_train_val.drop('is_canceled', axis = 1)"
   ]
  },
  {
   "cell_type": "code",
   "execution_count": null,
   "id": "fad32dfe",
   "metadata": {},
   "outputs": [],
   "source": [
    "metrics = {\n",
    "        'f1': f1_score,\n",
    "        'accuracy': accuracy_score,\n",
    "        'precision': precision_score,\n",
    "        'recall': recall_score,\n",
    "        'roc_auc': roc_auc_score\n",
    "    }\n",
    "\n",
    "def disp_metrics(metrics, y_val_hat, _y_val = y_val , y_train = None, y_hat_train = None):\n",
    "      for metric in metrics:\n",
    "        print(metric + \":\")\n",
    "        print(metrics[metric](_y_val, y_val_hat))\n",
    "\n",
    "def tester(model_test):\n",
    "    model_test.fit(X_train_val, y_train_val)\n",
    "    y_hat = model_test.predict(X_test)\n",
    "    disp_metrics(metrics, y_hat, y_test)"
   ]
  },
  {
   "cell_type": "code",
   "execution_count": null,
   "id": "515c56f0",
   "metadata": {},
   "outputs": [],
   "source": [
    "best_params = {'l2_regularization': np.float64(0.13258194641807666),\n",
    " 'learning_rate': np.float64(0.0627604096823675),\n",
    " 'max_depth': 27,\n",
    " 'max_iter': 472,\n",
    " 'min_samples_leaf': 14}\n",
    "tester(HistGradientBoostingClassifier(random_state=42, **best_params))"
   ]
  }
 ],
 "metadata": {
  "kernelspec": {
   "display_name": "env_scikit_intelex",
   "language": "python",
   "name": "python3"
  },
  "language_info": {
   "codemirror_mode": {
    "name": "ipython",
    "version": 3
   },
   "file_extension": ".py",
   "mimetype": "text/x-python",
   "name": "python",
   "nbconvert_exporter": "python",
   "pygments_lexer": "ipython3",
   "version": "3.11.11"
  }
 },
 "nbformat": 4,
 "nbformat_minor": 5
}
